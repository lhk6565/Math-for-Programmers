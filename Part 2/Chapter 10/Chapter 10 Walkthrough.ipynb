{
 "cells": [
  {
   "cell_type": "markdown",
   "id": "1629f8d3",
   "metadata": {},
   "source": [
    "# Chapter 10 기호 수식 다루기"
   ]
  },
  {
   "cell_type": "markdown",
   "id": "76da6913",
   "metadata": {},
   "source": [
    "## 10.1 컴퓨터 대수 시스템으로 정확한 도함수 구하기"
   ]
  },
  {
   "cell_type": "markdown",
   "id": "8e3fa4dc",
   "metadata": {},
   "source": [
    "### 10.1.1 파이썬에서 기호 대수 하기"
   ]
  },
  {
   "cell_type": "code",
   "execution_count": 1,
   "id": "f2804a41",
   "metadata": {},
   "outputs": [],
   "source": [
    "from math import sin\n",
    "def f(x):\n",
    "    return (3*x**2 + x) * sin(x)"
   ]
  },
  {
   "cell_type": "markdown",
   "id": "299266e8",
   "metadata": {},
   "source": [
    "## 10.2 대수식 모델링하기"
   ]
  },
  {
   "cell_type": "markdown",
   "id": "df64be83",
   "metadata": {},
   "source": [
    "### 10.2.3 수식 트리를 파이썬 언어로 번역하기"
   ]
  },
  {
   "cell_type": "code",
   "execution_count": 2,
   "id": "e10003ae",
   "metadata": {},
   "outputs": [],
   "source": [
    "class Power():\n",
    "    def __init__(self,base,exponent):\n",
    "        self.base = base\n",
    "        self.exponent = exponent"
   ]
  },
  {
   "cell_type": "code",
   "execution_count": 3,
   "id": "e3e4b9d7",
   "metadata": {},
   "outputs": [],
   "source": [
    "class Number():\n",
    "    def __init__(self,number):\n",
    "        self.number = number\n",
    "\n",
    "class Variable():\n",
    "    def __init__(self,symbol):\n",
    "        self.symbol = symbol"
   ]
  },
  {
   "cell_type": "markdown",
   "id": "ccdaee64",
   "metadata": {},
   "source": [
    "This represents $x^2$:"
   ]
  },
  {
   "cell_type": "code",
   "execution_count": 4,
   "id": "21713758",
   "metadata": {},
   "outputs": [
    {
     "data": {
      "text/plain": [
       "<__main__.Power at 0x239bb4f4d30>"
      ]
     },
     "execution_count": 4,
     "metadata": {},
     "output_type": "execute_result"
    }
   ],
   "source": [
    "Power(Variable(\"x\"),Number(2))"
   ]
  },
  {
   "cell_type": "code",
   "execution_count": 5,
   "id": "af0f312b",
   "metadata": {},
   "outputs": [],
   "source": [
    "class Product():\n",
    "    def __init__(self, exp1, exp2):\n",
    "        self.exp1 = exp1\n",
    "        self.exp2 = exp2"
   ]
  },
  {
   "cell_type": "markdown",
   "id": "6eb0f39e",
   "metadata": {},
   "source": [
    "This represents $3x^2$:"
   ]
  },
  {
   "cell_type": "code",
   "execution_count": 6,
   "id": "e2beb95a",
   "metadata": {},
   "outputs": [
    {
     "data": {
      "text/plain": [
       "<__main__.Product at 0x239bb524c70>"
      ]
     },
     "execution_count": 6,
     "metadata": {},
     "output_type": "execute_result"
    }
   ],
   "source": [
    "Product(Number(3),Power(Variable(\"x\"),Number(2)))"
   ]
  },
  {
   "cell_type": "code",
   "execution_count": 7,
   "id": "302b4ffe",
   "metadata": {},
   "outputs": [],
   "source": [
    "class Sum():\n",
    "    def __init__(self, *exps): #<1>\n",
    "        self.exps = exps\n",
    "\n",
    "class Function(): #<2>\n",
    "    def __init__(self,name):\n",
    "        self.name = name\n",
    "\n",
    "class Apply(): #<3>\n",
    "    def __init__(self,function,argument):\n",
    "        self.function = function\n",
    "        self.argument = argument\n",
    "\n",
    "f_expression = Product( #<4>\n",
    "                Sum(\n",
    "                    Product(\n",
    "                        Number(3),\n",
    "                        Power(\n",
    "                            Variable(\"x\"),\n",
    "                            Number(2))), \n",
    "                    Variable(\"x\")), \n",
    "                Apply(\n",
    "                    Function(\"sin\"),\n",
    "                    Variable(\"x\")))"
   ]
  },
  {
   "cell_type": "markdown",
   "id": "f62d0a99",
   "metadata": {},
   "source": [
    "This represents $\\cos(x^3+ -5)$:"
   ]
  },
  {
   "cell_type": "code",
   "execution_count": 8,
   "id": "c53539f5",
   "metadata": {},
   "outputs": [
    {
     "data": {
      "text/plain": [
       "<__main__.Apply at 0x239bb524610>"
      ]
     },
     "execution_count": 8,
     "metadata": {},
     "output_type": "execute_result"
    }
   ],
   "source": [
    "Apply(Function(\"cos\"),Sum(Power(Variable(\"x\"),Number(\"3\")), Number(-5)))"
   ]
  },
  {
   "cell_type": "markdown",
   "id": "6ae21c4a",
   "metadata": {},
   "source": [
    "### 10.2.4 연습문제"
   ]
  },
  {
   "cell_type": "markdown",
   "id": "2e27f0eb",
   "metadata": {},
   "source": [
    "### 연습문제 10.1\n",
    "여러분은 $\\ln(x)$라고 표기하는 자연 로그(natural logarithm) 함수를 본 적이 있을 것이다. 앞절에서 묘사한 원소와 컴비네이터를 사용해 수식 $\\ln(y^2)$을 트리로 그려라."
   ]
  },
  {
   "cell_type": "markdown",
   "id": "4e710df5",
   "metadata": {},
   "source": [
    "#### 가장 바깥쪽에는 Apply 컴비네이터가 있다. 적용하는 함수는 자연로그 $\\ln$이며 인자는 $y^z$이다. 한편, $y^z$는 밑이 $y$이고 지수가 $z$인 거듭제곱(Power)이다."
   ]
  },
  {
   "cell_type": "markdown",
   "id": "c3d847ca",
   "metadata": {},
   "source": [
    "### 연습문제 10.2\n",
    "[연습문제 10.1]의 수식을 파이썬 코드로 번역하되 자연로그는 파이썬 함수 `math.log`로 계산한다고 가정하라. 이 수식을 파이썬 함수로 작성하고 원소와 컴비네이터로 만든 자료구조로도 작성하라."
   ]
  },
  {
   "cell_type": "code",
   "execution_count": 9,
   "id": "3ff89fb2",
   "metadata": {},
   "outputs": [],
   "source": [
    "from math import log\n",
    "def f(y,z):\n",
    "    return log(y**z)"
   ]
  },
  {
   "cell_type": "code",
   "execution_count": 10,
   "id": "58840acb",
   "metadata": {},
   "outputs": [
    {
     "data": {
      "text/plain": [
       "<__main__.Apply at 0x239bb52fc10>"
      ]
     },
     "execution_count": 10,
     "metadata": {},
     "output_type": "execute_result"
    }
   ],
   "source": [
    "Apply(Function(\"ln\"), Power(Variable(\"y\"), Variable(\"z\")))"
   ]
  },
  {
   "cell_type": "markdown",
   "id": "e65aa5ba",
   "metadata": {},
   "source": [
    "### 연습문제 10.3\n",
    "`Product(Number(3), Sum(Variable('y'), Variable('z')))`로 표현되는 수식을 구하라."
   ]
  },
  {
   "cell_type": "markdown",
   "id": "d01e51f1",
   "metadata": {},
   "source": [
    "#### 이 수식은 $3 \\cdot (y + z)$를 나타낸다. 연산 순서를 고려하여 괄호를 표기하였다."
   ]
  },
  {
   "cell_type": "markdown",
   "id": "f7235976",
   "metadata": {},
   "source": [
    "### 연습문제 10.4\n",
    "한 수식을 다른 수식으로 나누는 나눗셈(Quotient) 컴비네이터를 구현하라. 다음 식을 나눗셈 컴비네이터를 이용해 나타내라.\n",
    "$$ \\frac{a+b}{2} $$"
   ]
  },
  {
   "cell_type": "code",
   "execution_count": 11,
   "id": "7c68b852",
   "metadata": {},
   "outputs": [],
   "source": [
    "class Quotient():\n",
    "    def __init__(self,numerator,denominator):\n",
    "        self.numerator = numerator\n",
    "        self.denominator = denominator"
   ]
  },
  {
   "cell_type": "code",
   "execution_count": 12,
   "id": "095a3c10",
   "metadata": {},
   "outputs": [
    {
     "data": {
      "text/plain": [
       "<__main__.Quotient at 0x239bb52f640>"
      ]
     },
     "execution_count": 12,
     "metadata": {},
     "output_type": "execute_result"
    }
   ],
   "source": [
    "Quotient(Sum(Variable(\"a\"),Variable(\"b\")),Number(2))"
   ]
  },
  {
   "cell_type": "markdown",
   "id": "3b603018",
   "metadata": {},
   "source": [
    "### 연습문제 10.5\n",
    "한 수식과 다른 수식의 뺄셈을 나타내는 차(Difference) 컴비네이터를 구현하라. $b^2-4ac$를 이 컴비네이터로 표현하라."
   ]
  },
  {
   "cell_type": "code",
   "execution_count": 13,
   "id": "a400bcd6",
   "metadata": {},
   "outputs": [],
   "source": [
    "class Difference():\n",
    "    def __init__(self,exp1,exp2):\n",
    "        self.exp1 = exp1\n",
    "        self.exp2 = exp2"
   ]
  },
  {
   "cell_type": "code",
   "execution_count": 14,
   "id": "a9e7a895",
   "metadata": {},
   "outputs": [
    {
     "data": {
      "text/plain": [
       "<__main__.Difference at 0x239bb539610>"
      ]
     },
     "execution_count": 14,
     "metadata": {},
     "output_type": "execute_result"
    }
   ],
   "source": [
    "Difference(\n",
    "    Power(Variable('b'),Number(2)),\n",
    "    Product(Number(4),Product(Variable('a'), Variable('c'))))"
   ]
  },
  {
   "cell_type": "markdown",
   "id": "5b2cb183",
   "metadata": {},
   "source": [
    "### 연습문제 10.6\n",
    "수식에 음의 기호를 붙이는 부정(Negative) 컴비네이터를 구현하라. 예를 들어 $x^2+y$의 부정은 $-(x^2+y)$이다. 새로운 컴비네이터를 사용해 코드로 수식 $-(x^2+y)$를 나타내어라."
   ]
  },
  {
   "cell_type": "code",
   "execution_count": 15,
   "id": "88f7609f",
   "metadata": {},
   "outputs": [],
   "source": [
    "class Negative():\n",
    "    def __init__(self,exp):\n",
    "        self.exp = exp"
   ]
  },
  {
   "cell_type": "code",
   "execution_count": 16,
   "id": "a14c9a8b",
   "metadata": {},
   "outputs": [
    {
     "data": {
      "text/plain": [
       "<__main__.Negative at 0x239bb539310>"
      ]
     },
     "execution_count": 16,
     "metadata": {},
     "output_type": "execute_result"
    }
   ],
   "source": [
    "Negative(Sum(Power(Variable(\"x\"),Number(2)),Variable(\"y\")))"
   ]
  },
  {
   "cell_type": "markdown",
   "id": "c0421b33",
   "metadata": {},
   "source": [
    "### 연습문제 10.7\n",
    "제곱근을 나타내는 `Sqrt`라는 함수를 추가하고 이 함수를 사용해 다음 수식을 코드화하라.\n",
    "$$ \\frac{-b \\pm \\sqrt{b^2 - 4ac}}{2a} $$"
   ]
  },
  {
   "cell_type": "code",
   "execution_count": 17,
   "id": "78b34b16",
   "metadata": {},
   "outputs": [],
   "source": [
    "A = Variable('a')\n",
    "B = Variable('b')\n",
    "C = Variable('c')\n",
    "Sqrt = Function('sqrt')"
   ]
  },
  {
   "cell_type": "code",
   "execution_count": 18,
   "id": "71e6016c",
   "metadata": {},
   "outputs": [
    {
     "data": {
      "text/plain": [
       "<__main__.Quotient at 0x239bb5409d0>"
      ]
     },
     "execution_count": 18,
     "metadata": {},
     "output_type": "execute_result"
    }
   ],
   "source": [
    "Quotient(\n",
    "    Sum(\n",
    "        Negative(B),\n",
    "        Apply(\n",
    "            Sqrt, \n",
    "            Difference(\n",
    "                Power(B,Number(2)),\n",
    "                Product(Number(4), Product(A,C))))),\n",
    "    Product(Number(2), A))"
   ]
  },
  {
   "cell_type": "markdown",
   "id": "3d827049",
   "metadata": {},
   "source": [
    "### 연습문제 10.8 (Mini-project)\n",
    "`Expression`이라는 추상 베이스 클래스를 만들어 모든 원소와 컴비네이터가 상속받도록 하라. 예를 들어 `class Variable()`은 `class Variable(Expression)`이다. 그 뒤, 파이썬 산술 연산자 $+, -, *, /$을 `Expression` 객체를 생성하도록 오버로딩하라. 예를 들어 코드 `2*Variable(\"x\")+3`은 `Sum(Product(Number(2),Variable(\"X\")),Number(3))`이다."
   ]
  },
  {
   "cell_type": "markdown",
   "id": "6cdd2052",
   "metadata": {},
   "source": [
    "**Solution:** see \"expressions.py\" file, and section 2.2 and beyond below."
   ]
  },
  {
   "cell_type": "markdown",
   "id": "e5ddf5d7",
   "metadata": {},
   "source": [
    "## 10.3 기호 수식 동작하게 하기"
   ]
  },
  {
   "cell_type": "markdown",
   "id": "6869c8f3",
   "metadata": {},
   "source": [
    "### 10.3.1 수식 내의 모든 변수 찾기"
   ]
  },
  {
   "cell_type": "code",
   "execution_count": 19,
   "id": "39479916",
   "metadata": {},
   "outputs": [],
   "source": [
    "def distinct_variables(exp):\n",
    "    if isinstance(exp, Variable):\n",
    "        return set(exp.symbol)\n",
    "    elif isinstance(exp, Number):\n",
    "        return set()\n",
    "    elif isinstance(exp, Sum):\n",
    "        return set().union(*[distinct_variables(exp) for exp in exp.exps])\n",
    "    elif isinstance(exp, Product):\n",
    "        return distinct_variables(exp.exp1).union(distinct_variables(exp.exp2))\n",
    "    elif isinstance(exp, Power):\n",
    "        return distinct_variables(exp.base).union(distinct_variables(exp.exponent))\n",
    "    elif isinstance(exp, Apply):\n",
    "        return distinct_variables(exp.argument)\n",
    "    else:\n",
    "        raise TypeError(\"Not a valid expression.\")"
   ]
  },
  {
   "cell_type": "code",
   "execution_count": 20,
   "id": "51e47956",
   "metadata": {},
   "outputs": [
    {
     "data": {
      "text/plain": [
       "{'z'}"
      ]
     },
     "execution_count": 20,
     "metadata": {},
     "output_type": "execute_result"
    }
   ],
   "source": [
    "distinct_variables(Variable(\"z\"))"
   ]
  },
  {
   "cell_type": "code",
   "execution_count": 21,
   "id": "2ec7f555",
   "metadata": {},
   "outputs": [
    {
     "data": {
      "text/plain": [
       "set()"
      ]
     },
     "execution_count": 21,
     "metadata": {},
     "output_type": "execute_result"
    }
   ],
   "source": [
    "distinct_variables(Number(3))"
   ]
  },
  {
   "cell_type": "code",
   "execution_count": 22,
   "id": "8e049bd5",
   "metadata": {},
   "outputs": [
    {
     "data": {
      "text/plain": [
       "{'x'}"
      ]
     },
     "execution_count": 22,
     "metadata": {},
     "output_type": "execute_result"
    }
   ],
   "source": [
    "distinct_variables(f_expression)"
   ]
  },
  {
   "cell_type": "markdown",
   "id": "e000de70",
   "metadata": {},
   "source": [
    "### 10.3.2 수식의 값 구하기"
   ]
  },
  {
   "cell_type": "code",
   "execution_count": 23,
   "id": "c402a516",
   "metadata": {},
   "outputs": [],
   "source": [
    "from abc import ABC, abstractmethod\n",
    "\n",
    "class Expression(ABC):\n",
    "    @abstractmethod\n",
    "    def evaluate(self, **bindings):\n",
    "        pass"
   ]
  },
  {
   "cell_type": "code",
   "execution_count": 24,
   "id": "ab758c9c",
   "metadata": {},
   "outputs": [],
   "source": [
    "class Number(Expression):\n",
    "    def __init__(self,number):\n",
    "        self.number = number\n",
    "    def evaluate(self, **bindings):\n",
    "        return self.number\n",
    "    \n",
    "class Variable(Expression):\n",
    "    def __init__(self,symbol):\n",
    "        self.symbol = symbol\n",
    "    def evaluate(self, **bindings):\n",
    "        try:\n",
    "            return bindings[self.symbol]\n",
    "        except:\n",
    "            raise KeyError(\"Variable '{}' is not bound.\".format(self.symbol))\n",
    "            \n",
    "class Product(Expression):\n",
    "    def __init__(self, exp1, exp2):\n",
    "        self.exp1 = exp1\n",
    "        self.exp2 = exp2\n",
    "    def evaluate(self, **bindings):\n",
    "        return self.exp1.evaluate(**bindings) * self.exp2.evaluate(**bindings)"
   ]
  },
  {
   "cell_type": "code",
   "execution_count": 25,
   "id": "86b532f4",
   "metadata": {},
   "outputs": [
    {
     "data": {
      "text/plain": [
       "10"
      ]
     },
     "execution_count": 25,
     "metadata": {},
     "output_type": "execute_result"
    }
   ],
   "source": [
    "Product(Variable(\"x\"), Variable(\"y\")).evaluate(x=2,y=5)"
   ]
  },
  {
   "cell_type": "code",
   "execution_count": 26,
   "id": "aa89d8b7",
   "metadata": {},
   "outputs": [],
   "source": [
    "import math\n",
    "from math import sin, cos, log\n",
    "\n",
    "_function_bindings = {\n",
    "    \"sin\": math.sin,\n",
    "    \"cos\": math.cos,\n",
    "    \"ln\": math.log\n",
    "}\n",
    "\n",
    "class Apply(Expression):\n",
    "    def __init__(self,function,argument):\n",
    "        self.function = function\n",
    "        self.argument = argument\n",
    "    def evaluate(self, **bindings):\n",
    "        return _function_bindings[self.function.name](self.argument.evaluate(**bindings))"
   ]
  },
  {
   "cell_type": "markdown",
   "id": "22452d2a",
   "metadata": {},
   "source": [
    "From the text: ... Similarly, we can add an “evaluate” method to the Sum, Power, Difference, or Quotient combinators...."
   ]
  },
  {
   "cell_type": "code",
   "execution_count": 27,
   "id": "49a4cc32",
   "metadata": {},
   "outputs": [],
   "source": [
    "class Sum(Expression):\n",
    "    def __init__(self, *exps):\n",
    "        self.exps = exps\n",
    "    def evaluate(self, **bindings):\n",
    "        return sum([exp.evaluate(**bindings) for exp in self.exps])\n",
    "    \n",
    "class Power(Expression):\n",
    "    def __init__(self,base,exponent):\n",
    "        self.base = base\n",
    "        self.exponent = exponent\n",
    "    def evaluate(self, **bindings):\n",
    "        return self.base.evaluate(**bindings) ** self.exponent.evaluate(**bindings)\n",
    "    \n",
    "class Difference(Expression):\n",
    "    def __init__(self,exp1,exp2):\n",
    "        self.exp1 = exp1\n",
    "        self.exp2 = exp2\n",
    "    def evaluate(self, **bindings):\n",
    "        return self.exp1.evaluate(**bindings) - self.exp2.evaluate(**bindings)\n",
    "    \n",
    "class Quotient(Expression):\n",
    "    def __init__(self,numerator,denominator):\n",
    "        self.numerator = numerator\n",
    "        self.denominator = denominator\n",
    "    def evaluate(self, **bindings):\n",
    "        return self.numerator.evaluate(**bindings) / self.denominator.evaluate(**bindings)"
   ]
  },
  {
   "cell_type": "markdown",
   "id": "1971cc18",
   "metadata": {},
   "source": [
    "Redefine `f_expression` in light of the new class definitions"
   ]
  },
  {
   "cell_type": "code",
   "execution_count": 28,
   "id": "58221652",
   "metadata": {},
   "outputs": [],
   "source": [
    "f_expression = Product( #<4>\n",
    "                Sum(\n",
    "                    Product(\n",
    "                        Number(3),\n",
    "                        Power(\n",
    "                            Variable(\"x\"),\n",
    "                            Number(2))), \n",
    "                    Variable(\"x\")), \n",
    "                Apply(\n",
    "                    Function(\"sin\"),\n",
    "                    Variable(\"x\")))"
   ]
  },
  {
   "cell_type": "code",
   "execution_count": 29,
   "id": "96b68e0e",
   "metadata": {},
   "outputs": [
    {
     "data": {
      "text/plain": [
       "-76.71394197305108"
      ]
     },
     "execution_count": 29,
     "metadata": {},
     "output_type": "execute_result"
    }
   ],
   "source": [
    "f_expression.evaluate(x=5)"
   ]
  },
  {
   "cell_type": "code",
   "execution_count": 30,
   "id": "faa2e7c2",
   "metadata": {},
   "outputs": [
    {
     "data": {
      "text/plain": [
       "-76.71394197305108"
      ]
     },
     "execution_count": 30,
     "metadata": {},
     "output_type": "execute_result"
    }
   ],
   "source": [
    "from math import sin\n",
    "def f(x):\n",
    "    return (3*x**2 + x) * sin(x)\n",
    "\n",
    "f(5)"
   ]
  },
  {
   "cell_type": "markdown",
   "id": "48b4dedc",
   "metadata": {},
   "source": [
    "### 10.3.3 수식 전개하기"
   ]
  },
  {
   "cell_type": "code",
   "execution_count": 31,
   "id": "10e1abaa",
   "metadata": {},
   "outputs": [],
   "source": [
    "class Expression(ABC):\n",
    "    @abstractmethod\n",
    "    def evaluate(self, **bindings):\n",
    "        pass\n",
    "    @abstractmethod\n",
    "    def expand(self):\n",
    "        pass\n",
    "    \n",
    "    # Printing expressions legibly in REPL (See first mini project in 2.4)\n",
    "    @abstractmethod\n",
    "    def display(self):\n",
    "        pass\n",
    "    def __repr__(self):\n",
    "        return self.display()"
   ]
  },
  {
   "cell_type": "code",
   "execution_count": 32,
   "id": "4bedf79a",
   "metadata": {},
   "outputs": [],
   "source": [
    "class Sum(Expression):\n",
    "    def __init__(self, *exps):\n",
    "        self.exps = exps\n",
    "    def evaluate(self, **bindings):\n",
    "        return sum([exp.evaluate(**bindings) for exp in self.exps])\n",
    "    def expand(self):\n",
    "        return Sum(*[exp.expand() for exp in self.exps])\n",
    "    def display(self):\n",
    "        return \"Sum({})\".format(\",\".join([e.display() for e in self.exps]))\n",
    "    \n",
    "class Product(Expression):\n",
    "    def __init__(self, exp1, exp2):\n",
    "        self.exp1 = exp1\n",
    "        self.exp2 = exp2\n",
    "    def evaluate(self, **bindings):\n",
    "        return self.exp1.evaluate(**bindings) * self.exp2.evaluate(**bindings)\n",
    "    def expand(self):\n",
    "        expanded1 = self.exp1.expand()\n",
    "        expanded2 = self.exp2.expand()\n",
    "        if isinstance(expanded1, Sum):\n",
    "            return Sum(*[Product(e,expanded2).expand() for e in expanded1.exps])\n",
    "        elif isinstance(expanded2, Sum):\n",
    "            return Sum(*[Product(expanded1,e) for e in expanded2.exps])\n",
    "        else:\n",
    "            return Product(expanded1,expanded2)\n",
    "    def display(self):\n",
    "        return \"Product({},{})\".format(self.exp1.display(),self.exp2.display())\n",
    "        \n",
    "class Difference(Expression):\n",
    "    def __init__(self,exp1,exp2):\n",
    "        self.exp1 = exp1\n",
    "        self.exp2 = exp2\n",
    "    def evaluate(self, **bindings):\n",
    "        return self.exp1.evaluate(**bindings) - self.exp2.evaluate(**bindings)\n",
    "    def expand(self):\n",
    "        return self\n",
    "    def display(self):\n",
    "        return \"Difference({},{})\".format(self.exp1.display(), self.exp2.display())\n",
    "    \n",
    "class Quotient(Expression):\n",
    "    def __init__(self,numerator,denominator):\n",
    "        self.numerator = numerator\n",
    "        self.denominator = denominator\n",
    "    def evaluate(self, **bindings):\n",
    "        return self.numerator.evaluate(**bindings) / self.denominator.evaluate(**bindings)\n",
    "    def expand(self):\n",
    "        return self\n",
    "    def display(self):\n",
    "        return \"Quotient({},{})\".format(self.numerator.display(),self.denominator.display())\n",
    "    \n",
    "class Negative(Expression):\n",
    "    def __init__(self,exp):\n",
    "        self.exp = exp\n",
    "    def evaluate(self, **bindings):\n",
    "        return - self.exp.evaluate(**bindings)\n",
    "    def expand(self):\n",
    "        return self\n",
    "    def display(self):\n",
    "        return \"Negative({})\".format(self.exp.display())\n",
    "    \n",
    "class Number(Expression):\n",
    "    def __init__(self,number):\n",
    "        self.number = number\n",
    "    def evaluate(self, **bindings):\n",
    "        return self.number\n",
    "    def expand(self):\n",
    "        return self\n",
    "    def display(self):\n",
    "        return \"Number({})\".format(self.number)\n",
    "    \n",
    "class Power(Expression):\n",
    "    def __init__(self,base,exponent):\n",
    "        self.base = base\n",
    "        self.exponent = exponent\n",
    "    def evaluate(self, **bindings):\n",
    "        return self.base.evaluate(**bindings) ** self.exponent.evaluate(**bindings)\n",
    "    def expand(self):\n",
    "        return self\n",
    "    def display(self):\n",
    "        return \"Power({},{})\".format(self.base.display(),self.exponent.display())\n",
    "    \n",
    "class Variable(Expression):\n",
    "    def __init__(self,symbol):\n",
    "        self.symbol = symbol\n",
    "    def evaluate(self, **bindings):\n",
    "        return bindings[self.symbol]\n",
    "    def expand(self):\n",
    "        return self\n",
    "    def display(self):\n",
    "        return \"Variable(\\\"{}\\\")\".format(self.symbol)\n",
    "    \n",
    "class Function():\n",
    "    def __init__(self,name,make_latex=None):\n",
    "        self.name = name\n",
    "        self.make_latex = make_latex\n",
    "    def latex(self,arg_latex):\n",
    "        if self.make_latex:\n",
    "            return self.make_latex(arg_latex)\n",
    "        else:\n",
    "            return \" \\\\operatorname{{ {} }} \\\\left( {} \\\\right)\".format(self.name, arg_latex)\n",
    "\n",
    "class Apply(Expression):\n",
    "    def __init__(self,function,argument):\n",
    "        self.function = function\n",
    "        self.argument = argument\n",
    "    def evaluate(self, **bindings):\n",
    "        return _function_bindings[self.function.name](self.argument.evaluate(**bindings))\n",
    "    def expand(self):\n",
    "        return Apply(self.function, self.argument.expand())\n",
    "    def display(self):\n",
    "        return \"Apply(Function(\\\"{}\\\"),{})\".format(self.function.name, self.argument.display())"
   ]
  },
  {
   "cell_type": "code",
   "execution_count": 33,
   "id": "e7c1741e",
   "metadata": {},
   "outputs": [
    {
     "data": {
      "text/plain": [
       "Product(Sum(Variable(\"a\"),Variable(\"b\")),Sum(Variable(\"y\"),Variable(\"z\")))"
      ]
     },
     "execution_count": 33,
     "metadata": {},
     "output_type": "execute_result"
    }
   ],
   "source": [
    "Y = Variable('y')\n",
    "Z = Variable('z')\n",
    "A = Variable('a')\n",
    "B = Variable('b')\n",
    "Product(Sum(A,B),Sum(Y,Z))"
   ]
  },
  {
   "cell_type": "code",
   "execution_count": 34,
   "id": "06b9957f",
   "metadata": {},
   "outputs": [
    {
     "data": {
      "text/plain": [
       "Sum(Sum(Product(Variable(\"a\"),Variable(\"y\")),Product(Variable(\"a\"),Variable(\"z\"))),Sum(Product(Variable(\"b\"),Variable(\"y\")),Product(Variable(\"b\"),Variable(\"z\"))))"
      ]
     },
     "execution_count": 34,
     "metadata": {},
     "output_type": "execute_result"
    }
   ],
   "source": [
    "Product(Sum(A,B),Sum(Y,Z)).expand()"
   ]
  },
  {
   "cell_type": "code",
   "execution_count": 35,
   "id": "690f149f",
   "metadata": {},
   "outputs": [],
   "source": [
    "f_expression = Product( #<4>\n",
    "                Sum(\n",
    "                    Product(\n",
    "                        Number(3),\n",
    "                        Power(\n",
    "                            Variable(\"x\"),\n",
    "                            Number(2))), \n",
    "                    Variable(\"x\")), \n",
    "                Apply(\n",
    "                    Function(\"sin\"),\n",
    "                    Variable(\"x\")))"
   ]
  },
  {
   "cell_type": "code",
   "execution_count": 36,
   "id": "3ec9ddab",
   "metadata": {},
   "outputs": [
    {
     "data": {
      "text/plain": [
       "Sum(Product(Product(Number(3),Power(Variable(\"x\"),Number(2))),Apply(Function(\"sin\"),Variable(\"x\"))),Product(Variable(\"x\"),Apply(Function(\"sin\"),Variable(\"x\"))))"
      ]
     },
     "execution_count": 36,
     "metadata": {},
     "output_type": "execute_result"
    }
   ],
   "source": [
    "f_expression.expand()"
   ]
  },
  {
   "cell_type": "markdown",
   "id": "9da8e199",
   "metadata": {},
   "source": [
    "### 10.3.4 연습문제"
   ]
  },
  {
   "cell_type": "markdown",
   "id": "29c9a24f",
   "metadata": {},
   "source": [
    "### 연습문제 10.9\n",
    "주어진 수식이 특정 변수를 포함하는지 여부를 확인하는 함수 `contains(expression, variable)`을 작성하라."
   ]
  },
  {
   "cell_type": "code",
   "execution_count": 37,
   "id": "9b273659",
   "metadata": {},
   "outputs": [],
   "source": [
    "def contains(exp, var):\n",
    "    if isinstance(exp, Variable):\n",
    "        return exp.symbol == var.symbol\n",
    "    elif isinstance(exp, Number):\n",
    "        return False\n",
    "    elif isinstance(exp, Sum):\n",
    "        return any([contains(e,var) for e in exp.exps])\n",
    "    elif isinstance(exp, Product):\n",
    "        return contains(exp.exp1,var) or contains(exp.exp2,var)\n",
    "    elif isinstance(exp, Power):\n",
    "        return contains(exp.base, var) or contains(exp.exponent, var)\n",
    "    elif isinstance(exp, Apply):\n",
    "        return contains(exp.argument, var)\n",
    "    else:\n",
    "        raise TypeError(\"Not a valid expression.\")"
   ]
  },
  {
   "cell_type": "markdown",
   "id": "b56d2cf1",
   "metadata": {},
   "source": [
    "### 연습문제 10.10\n",
    "수식을 인자로 받아서 ($\\sin$이나 $\\ln$과 같이) 이름이 붙음 함수를 리턴하는 함수 `distinct_functions`를 작성하라."
   ]
  },
  {
   "cell_type": "code",
   "execution_count": 38,
   "id": "f72b7d0f",
   "metadata": {},
   "outputs": [],
   "source": [
    "def distinct_functions(exp):\n",
    "    if isinstance(exp, Variable):\n",
    "        return set()\n",
    "    elif isinstance(exp, Number):\n",
    "        return set()\n",
    "    elif isinstance(exp, Sum):\n",
    "        return set().union(*[distinct_functions(exp) for exp in exp.exps])\n",
    "    elif isinstance(exp, Product):\n",
    "        return distinct_functions(exp.exp1).union(distinct_functions(exp.exp2))\n",
    "    elif isinstance(exp, Power):\n",
    "        return distinct_functions(exp.base).union(distinct_functions(exp.exponent))\n",
    "    elif isinstance(exp, Apply):\n",
    "        return set([exp.function.name]).union(distinct_functions(exp.argument))\n",
    "    else:\n",
    "        raise TypeError(\"Not a valid expression.\")"
   ]
  },
  {
   "cell_type": "markdown",
   "id": "3ccb58da",
   "metadata": {},
   "source": [
    "### 연습문제 10.11\n",
    "수식을 입력으로 받아 `Sum`을 포함하고 있으면 **True**를, 그렇지 않으면 **False**를 리턴하는 함수 `contains_sum`을 작성하라."
   ]
  },
  {
   "cell_type": "code",
   "execution_count": 39,
   "id": "31e53e84",
   "metadata": {},
   "outputs": [],
   "source": [
    "def contains_sum(exp):\n",
    "    if isinstance(exp, Variable):\n",
    "        return False\n",
    "    elif isinstance(exp, Number):\n",
    "        return False\n",
    "    elif isinstance(exp, Sum):\n",
    "        return True\n",
    "    elif isinstance(exp, Product):\n",
    "        return contains_sum(exp.exp1) or contains_sum(exp.exp2)\n",
    "    elif isinstance(exp, Power):\n",
    "        return contains_sum(exp.base) or contains_sum(exp.exponent)\n",
    "    elif isinstance(exp, Apply):\n",
    "        return contains_sum(exp.argument)\n",
    "    else:\n",
    "        raise TypeError(\"Not a valid expression.\")"
   ]
  },
  {
   "cell_type": "markdown",
   "id": "62e6907a",
   "metadata": {},
   "source": [
    "### 연습문제 10.12 (Mini-project)\n",
    "`Expression` 클래스 객체를 대화형 세션에서 읽기 쉽게 나타내도록 `Expression` 클래스의 `__repr__`메서드를 작성하라."
   ]
  },
  {
   "cell_type": "code",
   "execution_count": 40,
   "id": "6bee9212",
   "metadata": {},
   "outputs": [],
   "source": [
    "class Expression(ABC):\n",
    "    def __repr__(self):\n",
    "        return self.display()"
   ]
  },
  {
   "cell_type": "markdown",
   "id": "ab0439b2",
   "metadata": {},
   "source": [
    "### 연습문제 10.13 (Mini-project)\n",
    "레이텍(LaTeX) 언어를 사용해 수식을 코드화하는 법을 알고 있다면 `Expression` 클래스에 주어진 수식을 나타내는 LaTeX 코드를 리턴하는 `_repr_latex_` 메서드를 작성하라. 메서드를 추가한 뒤에는 주피터에서 수식 글꼴로 잘 렌더링된 결과를 살펴볼 수 있다."
   ]
  },
  {
   "cell_type": "code",
   "execution_count": 41,
   "id": "3b17adc8",
   "metadata": {},
   "outputs": [],
   "source": [
    "class Expression(ABC):\n",
    "    @abstractmethod\n",
    "    def latex(self):\n",
    "        pass\n",
    "    def _repr_latex_(self):\n",
    "        return \"$$\" + self.latex() + \"$$\""
   ]
  },
  {
   "cell_type": "code",
   "execution_count": 42,
   "id": "bad5f384",
   "metadata": {},
   "outputs": [],
   "source": [
    "from expressions import *"
   ]
  },
  {
   "cell_type": "code",
   "execution_count": 43,
   "id": "46a3f95f",
   "metadata": {},
   "outputs": [
    {
     "data": {
      "text/latex": [
       "$$x ^ { 2 } \\operatorname{ sin } \\left( y \\right)$$"
      ],
      "text/plain": [
       "Product(Power(Variable(\"x\"),Number(2)),Apply(Function(\"sin\"),Variable(\"y\")))"
      ]
     },
     "execution_count": 43,
     "metadata": {},
     "output_type": "execute_result"
    }
   ],
   "source": [
    "Product(Power(Variable(\"x\"),Number(2)),Apply(Function(\"sin\"),Variable(\"y\")))"
   ]
  },
  {
   "cell_type": "markdown",
   "id": "6eb20036",
   "metadata": {},
   "source": [
    "### 연습문제 10.14 (Mini-project)\n",
    "수식을 나타내는 파이썬 코드를 생성하는 메서드를 작성하라. 파이썬의 `eval` 함수를 사용해 실행가능한 파이썬 함수로 변환하라. 그 결과는 `evluate` 메서드의 결과와 비교하라. 예를 들어 `Power(Variable(\"x\"),Number(2))`는 수식 $x^2$을 나타내며 파이썬 코드 $x**2$를 생성한다. 파이썬의 `eval` 함수를 사용해 이 코드를 실행해서 그 결과와 `evluate` 메서드의 결과가 얼마나 맞아떨어지는지 보여라."
   ]
  },
  {
   "cell_type": "code",
   "execution_count": 44,
   "id": "91ec2a78",
   "metadata": {
    "scrolled": true
   },
   "outputs": [
    {
     "data": {
      "text/plain": [
       "'(x) ** (2)'"
      ]
     },
     "execution_count": 44,
     "metadata": {},
     "output_type": "execute_result"
    }
   ],
   "source": [
    "Power(Variable(\"x\"),Number(2))._python_expr()"
   ]
  },
  {
   "cell_type": "code",
   "execution_count": 45,
   "id": "324a6c8a",
   "metadata": {},
   "outputs": [
    {
     "data": {
      "text/plain": [
       "9"
      ]
     },
     "execution_count": 45,
     "metadata": {},
     "output_type": "execute_result"
    }
   ],
   "source": [
    "Power(Variable(\"x\"),Number(2)).python_function(x=3)"
   ]
  },
  {
   "cell_type": "markdown",
   "id": "a9262326",
   "metadata": {},
   "source": [
    "## 10.4 함수의 도함수 구하기"
   ]
  },
  {
   "cell_type": "code",
   "execution_count": 46,
   "id": "41a919d1",
   "metadata": {},
   "outputs": [],
   "source": [
    "from expressions import *"
   ]
  },
  {
   "cell_type": "code",
   "execution_count": 47,
   "id": "3c1e49bc",
   "metadata": {},
   "outputs": [
    {
     "data": {
      "text/latex": [
       "$$x ^ { 2 } \\operatorname{ sin } \\left( y \\right)$$"
      ],
      "text/plain": [
       "Product(Power(Variable(\"x\"),Number(2)),Apply(Function(\"sin\"),Variable(\"y\")))"
      ]
     },
     "execution_count": 47,
     "metadata": {},
     "output_type": "execute_result"
    }
   ],
   "source": [
    "Product(Power(Variable(\"x\"),Number(2)),Apply(Function(\"sin\"),Variable(\"y\")))"
   ]
  },
  {
   "cell_type": "markdown",
   "id": "8954c42a",
   "metadata": {},
   "source": [
    "### 10.4.5 연습문제"
   ]
  },
  {
   "cell_type": "markdown",
   "id": "36ef11d8",
   "metadata": {},
   "source": [
    "### 연습문제 10.15\n",
    "$f(x) = x^5$의 도함수가 $f^\\prime(x) = 5x^4$임을 (8장에서 배운 도함수를 사용해) 순간 변화율을 근사한 도함수와 공식으로 구한 도함수 $f^\\prime(x) = 5x^4$를 함께 플로팅해서 보여라."
   ]
  },
  {
   "cell_type": "code",
   "execution_count": 48,
   "id": "161bef73",
   "metadata": {},
   "outputs": [],
   "source": [
    "import matplotlib.pyplot as plt\n",
    "import numpy as np\n",
    "\n",
    "def plot_function(f,tmin,tmax,tlabel=None,xlabel=None,axes=False, **kwargs):\n",
    "    ts = np.linspace(tmin,tmax,1000)\n",
    "    if tlabel:\n",
    "        plt.xlabel(tlabel,fontsize=18)\n",
    "    if xlabel:\n",
    "        plt.ylabel(xlabel,fontsize=18)\n",
    "    plt.plot(ts, [f(t) for t in ts], **kwargs)\n",
    "    if axes:\n",
    "        total_t = tmax-tmin\n",
    "        plt.plot([tmin-total_t/10,tmax+total_t/10],[0,0],c='k',linewidth=1)\n",
    "        plt.xlim(tmin-total_t/10,tmax+total_t/10)\n",
    "        xmin, xmax = plt.ylim()\n",
    "        plt.plot([0,0],[xmin,xmax],c='k',linewidth=1)\n",
    "        plt.ylim(xmin,xmax)"
   ]
  },
  {
   "cell_type": "code",
   "execution_count": 49,
   "id": "2590f409",
   "metadata": {},
   "outputs": [
    {
     "data": {
      "image/png": "[encoded data removed]",
      "text/plain": [
       "<Figure size 432x288 with 1 Axes>"
      ]
     },
     "metadata": {
      "needs_background": "light"
     },
     "output_type": "display_data"
    }
   ],
   "source": [
    "def p(x):\n",
    "    return x**5\n",
    "def derivative(x):\n",
    "    return 5*x**4\n",
    "plot_function(derivative(x), 0, 1)\n",
    "plot_function(lambda x: 5*x**4, 0, 1)"
   ]
  },
  {
   "cell_type": "markdown",
   "id": "7775d426",
   "metadata": {},
   "source": [
    "### 연습문제 10.16 (Mini-project)\n",
    "6장에서 한 것처럼, 벡터공간으로서 일변수함수들의 모임을 생각해보자. 앞에서 다룬 미분법을 이용하여 도함수 연산자가 이 벡터공간의 일차변환임을 설명하라. 구체적으로는 모든 점에서 도함수가 존재하는 함수로만 제한한다."
   ]
  },
  {
   "cell_type": "markdown",
   "id": "03afc171",
   "metadata": {},
   "source": [
    "#### $f$와 $g$를 벡터로 보면 두 함수를 더하고 스칼라곱할 수 있다. $(f+g)(x) = f(x) + g(x)$이고 $(c \\cdot f)(x) = c \\cdot f(x)$임을 떠올려보기 바란다. 또한 일차변환은 벡터합과 스칼라곱을 보존하는 변환이다.\n",
    "#### 도함수를 취하는 연산(the operation of taking derivative)을 연산자(operator) $D$로 표기할 때, $D$는 함수를 입력으로 받아 도함수를 출력으로 리턴한다고 생각할 수 있다. $DF = f^\\prime$라고 표기하면 그렇게 보인다. 두 함수의 합에 대한 도함수는 각 함수의 도함수의 합인데, 다시 말해 다음이 성립한다.\n",
    "$$ D(f+g) = Df + Dg$$\n",
    "#### 어떤 함수에 수 $c$를 곱해 만든 함수의 도함수는 $c$와 원래 함수의 도함수를 곱한 것이다.\n",
    "$$ D(c \\cdot f) = c \\cdot Df $$\n",
    "#### 이 두 규칙은 $D$가 일차변환임을 의미한다. 특히 두 함수의 일차결합의 도함수가 각 도함수의 일차결합과 같음에 주목하라.\n",
    "$$ D(a \\cdot f + b \\cdot g) = a \\cdot Df + b \\cdot Dg $$"
   ]
  },
  {
   "cell_type": "markdown",
   "id": "e76c9963",
   "metadata": {},
   "source": [
    "### 연습문제 10.17 (Mini-project)\n",
    "몫 $f(x)/g(x)$의 미분법 공식을 구하라."
   ]
  },
  {
   "cell_type": "markdown",
   "id": "5aa5a841",
   "metadata": {},
   "source": [
    "#### $g(x)^-1$의 도함수는 합성함수의 미분법에 의해 $-g(x)^-2 \\cdot g^\\prime(x)$이다. 이를 다시 쓰면 다음과 같다.\n",
    "$$ -\\frac{g^\\prime(x)}{g(x)^2} $$\n",
    "#### 몫 $f(x)/g(x)$의 도함수는 곱 $f(x) \\cdot g(x)^-1$의 도함수와 같아. 따라서 곱의 미분법을 적용하면 다음과 같다.\n",
    "$$ f^\\prime(x)g(x)^{-1} - \\frac{g^\\prime(x)}{g(x)^2}f(x) = \\frac{f^\\prime(x)}{g(x)} - \\frac{f(x)g^\\prime(x)}{g(x)^2} $$\n",
    "#### 첫 번째 항의 분모, 분자에 $g(x)$를 곱하면 두 항의 분모가 같아지므로 두 항을 더할 수 있다.\n",
    "$$ \\frac{f^\\prime(x)}{g(x)} - \\frac{f(x)g^\\prime(x)}{g(x)^2} = \\frac{f^\\prime(x)g(x)}{g(x)^2} - \\frac{f(x)g^\\prime(x)}{g(x)^2} = \\frac{f^\\prime(x)g(x) - f(x)g^\\prime(x)}{g(x)^2} $$"
   ]
  },
  {
   "cell_type": "markdown",
   "id": "db601d01",
   "metadata": {},
   "source": [
    "### 연습문제 10.18\n",
    "$\\sin(x) \\cdot \\cos(x) \\cdot \\ln(x)$의 도함수를 구하라."
   ]
  },
  {
   "cell_type": "markdown",
   "id": "c8c33d0c",
   "metadata": {},
   "source": [
    "#### 이 식에는 두번의 곱셈이 있는데, 다행히도 어느 순서로 곱의 미분법을 적용해도 같은 결과를 얻는다. $\\sin(x) \\cdot \\cos(x)$의 도함수는 다음과 같다.\n",
    "$$ \\sin(x) \\cdot (-\\sin(x)) + \\cos(x) \\cdot \\cos(x) = \\cos(x)^2 - \\sin(x)^2 $$\n",
    "#### $\\ln(x)$의 도함수는 $1/x$이고 곱의 미분법을 이용하면 전체 곱의 도함수는 다음과 같다.\n",
    "$$ \\ln(x)(\\cos(x)^2-\\sin(x)^2) + \\frac{\\sin(x)\\cos(x)}{x} $$"
   ]
  },
  {
   "cell_type": "markdown",
   "id": "ec843e3f",
   "metadata": {},
   "source": [
    "### 연습문제 10.19\n",
    "세 함수 $f, g, h$의 각 도함수를 각각 $f^\\prime, g^\\prime, h^\\prime$이라고 표기하기로 하자. $x$에 대한 $f(g(h(x)))$의 도함수를 구하라."
   ]
  },
  {
   "cell_type": "markdown",
   "id": "59348e6d",
   "metadata": {},
   "source": [
    "#### 합성함수의 미분법을 두 번 적용해야 한다. 합성함수의 미분법의 앞 부분은 $f^\\prime(g(h(x)))$인데, 여기에 $g(h(x))$의 도함수를 곱해야 한다. 이 도함수는 $g^\\prime(h(x))$에 안쪽 $h(x)$의 도함수를 곱한 것이다. $g(h(x))$의 도함수는 $h^\\prime(x) \\cdot g^\\prime(h(x))$이므로, $f(g(h(x)))$의 도함수는 $h^\\prime(x) \\cdot g^\\prime(h(x()) \\cdot f^\\prime(g(h(x)))$이다."
   ]
  },
  {
   "cell_type": "markdown",
   "id": "bcbeb547",
   "metadata": {},
   "source": [
    "## 10.5 도함수 취하는 과정 자동화 하기"
   ]
  },
  {
   "cell_type": "markdown",
   "id": "4399ebf6",
   "metadata": {},
   "source": [
    "### 10.5.1 기호 수식의 도함수 구하는 법 구현하기"
   ]
  },
  {
   "cell_type": "code",
   "execution_count": 50,
   "id": "6eabe19f",
   "metadata": {},
   "outputs": [
    {
     "data": {
      "text/latex": [
       "$$1 + 0 + 0$$"
      ],
      "text/plain": [
       "Sum(Number(1),Number(0),Number(0))"
      ]
     },
     "execution_count": 50,
     "metadata": {},
     "output_type": "execute_result"
    }
   ],
   "source": [
    "Sum(Variable(\"x\"),Variable(\"c\"),Number(1)).derivative(Variable(\"x\"))"
   ]
  },
  {
   "cell_type": "markdown",
   "id": "19b4ce12",
   "metadata": {},
   "source": [
    "### 10.5.2 곱의 미분법과 합성함수의 미분법 구현하기"
   ]
  },
  {
   "cell_type": "code",
   "execution_count": 51,
   "id": "0410e623",
   "metadata": {},
   "outputs": [
    {
     "data": {
      "text/latex": [
       "$$c\\cdot 1$$"
      ],
      "text/plain": [
       "Product(Variable(\"c\"),Number(1))"
      ]
     },
     "execution_count": 51,
     "metadata": {},
     "output_type": "execute_result"
    }
   ],
   "source": [
    "Product(Variable(\"c\"),Variable(\"x\")).derivative(Variable(\"x\"))"
   ]
  },
  {
   "cell_type": "code",
   "execution_count": 52,
   "id": "c222c1e8",
   "metadata": {},
   "outputs": [
    {
     "data": {
      "text/latex": [
       "$$1\\cdot 2x ^ { 1 } \\operatorname{ cos } \\left( x ^ { 2 } \\right)$$"
      ],
      "text/plain": [
       "Product(Product(Number(1),Product(Number(2),Power(Variable(\"x\"),Number(1)))),Apply(Function(\"cos\"),Power(Variable(\"x\"),Number(2))))"
      ]
     },
     "execution_count": 52,
     "metadata": {},
     "output_type": "execute_result"
    }
   ],
   "source": [
    "Apply(Function(\"sin\"),Power(Variable(\"x\"),Number(2))).derivative(x)"
   ]
  },
  {
   "cell_type": "markdown",
   "id": "27efb5ad",
   "metadata": {},
   "source": [
    "### 10.5.3 거듭제곱의 미분법 구현하기"
   ]
  },
  {
   "cell_type": "code",
   "execution_count": 53,
   "id": "fe3149a5",
   "metadata": {},
   "outputs": [],
   "source": [
    "f_expression = Product( #<4>\n",
    "                Sum(\n",
    "                    Product(\n",
    "                        Number(3),\n",
    "                        Power(\n",
    "                            Variable(\"x\"),\n",
    "                            Number(2))), \n",
    "                    Variable(\"x\")), \n",
    "                Apply(\n",
    "                    Function(\"sin\"),\n",
    "                    Variable(\"x\")))"
   ]
  },
  {
   "cell_type": "code",
   "execution_count": 54,
   "id": "edfc8c73",
   "metadata": {},
   "outputs": [
    {
     "data": {
      "text/latex": [
       "$$\\left( 3\\cdot 1\\cdot 2x ^ { 1 } + 1 \\right) \\operatorname{ sin } \\left( x \\right) + \\left( 3x ^ { 2 } + x \\right)\\cdot 1 \\operatorname{ cos } \\left( x \\right)$$"
      ],
      "text/plain": [
       "Sum(Product(Sum(Product(Number(3),Product(Number(1),Product(Number(2),Power(Variable(\"x\"),Number(1))))),Number(1)),Apply(Function(\"sin\"),Variable(\"x\"))),Product(Sum(Product(Number(3),Power(Variable(\"x\"),Number(2))),Variable(\"x\")),Product(Number(1),Apply(Function(\"cos\"),Variable(\"x\")))))"
      ]
     },
     "execution_count": 54,
     "metadata": {},
     "output_type": "execute_result"
    }
   ],
   "source": [
    "f_expression.derivative(x)"
   ]
  },
  {
   "cell_type": "markdown",
   "id": "a01aa28d",
   "metadata": {},
   "source": [
    "### 10.5.4 연습문제"
   ]
  },
  {
   "cell_type": "markdown",
   "id": "512d0423",
   "metadata": {},
   "source": [
    "### 연습문제 10.20\n",
    "우리의 코드는 어떤 수식 $f(x)$에 대해 $c \\cdot f(x)$ 또는 $f(x) \\cdot c$ 꼴의 곱을 다룰 수 있다. 두 경우 모두 도함수는 $c \\cdot f^\\prime(x)$이다. 그런데 곱의 미분법 공식에 대입할 때 $c$를 미분하고 $f(x)$를 곱한 $f(x) \\cdot 0 = 0$은 필요가 없다. 곱의 도함수를 취하는 코드를 수정하여 결과가 0인 항을 포함하지 않고 나올 수 있도록 처리하라."
   ]
  },
  {
   "cell_type": "code",
   "execution_count": 55,
   "id": "6ea5f416",
   "metadata": {},
   "outputs": [],
   "source": [
    "class Product(Expression):\n",
    "    def derivative(self,var):\n",
    "            if not contains(self.exp1, var):\n",
    "                return Product(self.exp1, self.exp2.derivative(var))\n",
    "            elif not contains(self.exp2, var):\n",
    "                return Product(self.exp1.derivative(var), self.exp2)\n",
    "            else:\n",
    "                return Sum(\n",
    "                    Product(self.exp1.derivative(var), self.exp2),\n",
    "                    Product(self.exp1, self.exp2.derivative(var)))"
   ]
  },
  {
   "cell_type": "markdown",
   "id": "cf243f7c",
   "metadata": {},
   "source": [
    "### 연습문제 10.21\n",
    "제곱근 함수를 특수 함수에 대한 딕셔너리에 추가해서 자동적으로 도함수를 취할 수 있도록 만들어라."
   ]
  },
  {
   "cell_type": "markdown",
   "id": "36a4d314",
   "metadata": {},
   "source": [
    "## 10.6 기호적으로 함수 적분하기"
   ]
  },
  {
   "cell_type": "markdown",
   "id": "70b2ae1e",
   "metadata": {},
   "source": [
    "### 10.6.2 `SymPy` 라이브러리 소개"
   ]
  },
  {
   "cell_type": "code",
   "execution_count": 56,
   "id": "74c2b821",
   "metadata": {},
   "outputs": [
    {
     "data": {
      "text/latex": [
       "$\\displaystyle y \\left(x + 3\\right)$"
      ],
      "text/plain": [
       "y*(x + 3)"
      ]
     },
     "execution_count": 56,
     "metadata": {},
     "output_type": "execute_result"
    }
   ],
   "source": [
    "from sympy import *\n",
    "from sympy.core.core import *\n",
    "Mul(Symbol('y'),Add(3,Symbol('x')))"
   ]
  },
  {
   "cell_type": "code",
   "execution_count": 57,
   "id": "2b2dbb66",
   "metadata": {},
   "outputs": [],
   "source": [
    "y = Symbol('y')"
   ]
  },
  {
   "cell_type": "code",
   "execution_count": 58,
   "id": "bbc2d973",
   "metadata": {},
   "outputs": [],
   "source": [
    "x = Symbol('x')"
   ]
  },
  {
   "cell_type": "code",
   "execution_count": 59,
   "id": "a6c1bc32",
   "metadata": {},
   "outputs": [
    {
     "data": {
      "text/latex": [
       "$\\displaystyle y \\left(x + 3\\right)$"
      ],
      "text/plain": [
       "y*(x + 3)"
      ]
     },
     "execution_count": 59,
     "metadata": {},
     "output_type": "execute_result"
    }
   ],
   "source": [
    "y*(3+x)"
   ]
  },
  {
   "cell_type": "code",
   "execution_count": 60,
   "id": "d5ac5a64",
   "metadata": {},
   "outputs": [
    {
     "data": {
      "text/latex": [
       "$\\displaystyle 4 y$"
      ],
      "text/plain": [
       "4*y"
      ]
     },
     "execution_count": 60,
     "metadata": {},
     "output_type": "execute_result"
    }
   ],
   "source": [
    "y*(3+x).subs(x,1)"
   ]
  },
  {
   "cell_type": "code",
   "execution_count": 61,
   "id": "7834be11",
   "metadata": {},
   "outputs": [
    {
     "data": {
      "text/latex": [
       "$\\displaystyle 2 x$"
      ],
      "text/plain": [
       "2*x"
      ]
     },
     "execution_count": 61,
     "metadata": {},
     "output_type": "execute_result"
    }
   ],
   "source": [
    "(x**2).diff(x)"
   ]
  },
  {
   "cell_type": "code",
   "execution_count": 62,
   "id": "a8b3c4c0",
   "metadata": {},
   "outputs": [
    {
     "data": {
      "text/latex": [
       "$\\displaystyle x^{3}$"
      ],
      "text/plain": [
       "x**3"
      ]
     },
     "execution_count": 62,
     "metadata": {},
     "output_type": "execute_result"
    }
   ],
   "source": [
    "(3*x**2).integrate(x)"
   ]
  },
  {
   "cell_type": "markdown",
   "id": "229b1197",
   "metadata": {},
   "source": [
    "### 10.6.3 연습문제"
   ]
  },
  {
   "cell_type": "markdown",
   "id": "db5e6e45",
   "metadata": {},
   "source": [
    "### 연습문제 10.22\n",
    "$f(x) = 0$의 부정적분을 구하라. `SymPy`로 구한 답을 확인하되 `SymPy`가 적분상수를 자동으로 포함하지 않음을 주의하라."
   ]
  },
  {
   "cell_type": "code",
   "execution_count": 63,
   "id": "aab9ffc3",
   "metadata": {},
   "outputs": [
    {
     "data": {
      "text/latex": [
       "$\\displaystyle 0$"
      ],
      "text/plain": [
       "0"
      ]
     },
     "execution_count": 63,
     "metadata": {},
     "output_type": "execute_result"
    }
   ],
   "source": [
    "Integer(0).integrate(x)"
   ]
  },
  {
   "cell_type": "markdown",
   "id": "b7c1aee0",
   "metadata": {},
   "source": [
    "### 연습문제 10.23\n",
    "$x\\cos(x)$의 부정적분을 구하라."
   ]
  },
  {
   "cell_type": "code",
   "execution_count": 64,
   "id": "b63224f2",
   "metadata": {},
   "outputs": [
    {
     "data": {
      "text/latex": [
       "$\\displaystyle x \\sin{\\left(x \\right)} + \\cos{\\left(x \\right)}$"
      ],
      "text/plain": [
       "x*sin(x) + cos(x)"
      ]
     },
     "execution_count": 64,
     "metadata": {},
     "output_type": "execute_result"
    }
   ],
   "source": [
    "(x*cos(x)).integrate(x)"
   ]
  },
  {
   "cell_type": "markdown",
   "id": "f59bae1d",
   "metadata": {},
   "source": [
    "### 연습문제 10.24\n",
    "$x^2$의 부정적분을 구하라. `SymPy`로 정답을 확인하라."
   ]
  },
  {
   "cell_type": "code",
   "execution_count": 65,
   "id": "96df657c",
   "metadata": {},
   "outputs": [
    {
     "data": {
      "text/latex": [
       "$\\displaystyle \\frac{x^{3}}{3}$"
      ],
      "text/plain": [
       "x**3/3"
      ]
     },
     "execution_count": 65,
     "metadata": {},
     "output_type": "execute_result"
    }
   ],
   "source": [
    "(x**2).integrate(x)"
   ]
  }
 ],
 "metadata": {
  "kernelspec": {
   "display_name": "Python 3 (ipykernel)",
   "language": "python",
   "name": "python3"
  },
  "language_info": {
   "codemirror_mode": {
    "name": "ipython",
    "version": 3
   },
   "file_extension": ".py",
   "mimetype": "text/x-python",
   "name": "python",
   "nbconvert_exporter": "python",
   "pygments_lexer": "ipython3",
   "version": "3.9.7"
  }
 },
 "nbformat": 4,
 "nbformat_minor": 5
}
