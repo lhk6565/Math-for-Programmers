{
 "cells": [
  {
   "cell_type": "markdown",
   "id": "b06bfb94",
   "metadata": {},
   "source": [
    "# Chapter 04 벡터 변환과 그래픽스"
   ]
  },
  {
   "cell_type": "markdown",
   "id": "6e975979",
   "metadata": {},
   "source": [
    "## 4.1 3차원 객체 변환"
   ]
  },
  {
   "cell_type": "markdown",
   "id": "5ebac6e1",
   "metadata": {},
   "source": [
    "### 4.1.1 변환된 객체 그리기"
   ]
  },
  {
   "cell_type": "code",
   "execution_count": 1,
   "id": "2bc5cc82",
   "metadata": {},
   "outputs": [
    {
     "name": "stdout",
     "output_type": "stream",
     "text": [
      "pygame 2.1.2 (SDL 2.0.18, Python 3.9.7)\n",
      "Hello from the pygame community. https://www.pygame.org/contribute.html\n"
     ]
    }
   ],
   "source": [
    "!python draw_teapot.py"
   ]
  },
  {
   "cell_type": "code",
   "execution_count": 5,
   "id": "03d3e0c0",
   "metadata": {},
   "outputs": [
    {
     "name": "stdout",
     "output_type": "stream",
     "text": [
      "pygame 2.1.2 (SDL 2.0.18, Python 3.9.7)\n",
      "Hello from the pygame community. https://www.pygame.org/contribute.html\n"
     ]
    }
   ],
   "source": [
    "!python scale_teapot.py"
   ]
  },
  {
   "cell_type": "code",
   "execution_count": 6,
   "id": "3a28af6e",
   "metadata": {},
   "outputs": [
    {
     "name": "stdout",
     "output_type": "stream",
     "text": [
      "pygame 2.1.2 (SDL 2.0.18, Python 3.9.7)\n",
      "Hello from the pygame community. https://www.pygame.org/contribute.html\n"
     ]
    }
   ],
   "source": [
    "!python scale_translate_teapot.py"
   ]
  },
  {
   "cell_type": "markdown",
   "id": "d7fa4198",
   "metadata": {},
   "source": [
    "### 4.1.2 벡터 변환 합성"
   ]
  },
  {
   "cell_type": "code",
   "execution_count": 7,
   "id": "633d9b1d",
   "metadata": {},
   "outputs": [],
   "source": [
    "def compose(f1,f2):\n",
    "    def new_function(input):\n",
    "        return f1(f2(input))\n",
    "    return new_function"
   ]
  },
  {
   "cell_type": "code",
   "execution_count": 8,
   "id": "b5effaee",
   "metadata": {},
   "outputs": [],
   "source": [
    "def polygon_map(transformation, polygons):\n",
    "    return [\n",
    "        [transformation(vertex) for vertex in triangle]\n",
    "        for triangle in polygons\n",
    "    ]"
   ]
  },
  {
   "cell_type": "code",
   "execution_count": 10,
   "id": "9b0402e3",
   "metadata": {},
   "outputs": [],
   "source": [
    "def scale_by(scalar):\n",
    "    def new_function(v):\n",
    "        return scale(scalar, v)\n",
    "    return new_function"
   ]
  },
  {
   "cell_type": "markdown",
   "id": "f5a45941",
   "metadata": {},
   "source": [
    "### 4.1.3 축을 기준으로 객체 회전하기"
   ]
  },
  {
   "cell_type": "code",
   "execution_count": 2,
   "id": "60f59f28",
   "metadata": {},
   "outputs": [
    {
     "name": "stdout",
     "output_type": "stream",
     "text": [
      "pygame 2.1.2 (SDL 2.0.18, Python 3.9.7)\n",
      "Hello from the pygame community. https://www.pygame.org/contribute.html\n"
     ]
    }
   ],
   "source": [
    "!python rotate_teapot.py"
   ]
  },
  {
   "cell_type": "code",
   "execution_count": 3,
   "id": "c85a69e1",
   "metadata": {},
   "outputs": [],
   "source": [
    "def rotate_x(angle, vector):\n",
    "    x,y,z = vector\n",
    "    new_y, new_z = rotate2d(angle, (y,z))\n",
    "    return x, new_y, new_z\n",
    "\n",
    "def rotate_x_by(angle):\n",
    "    def new_function(v):\n",
    "        return rotate_x(angle,v)\n",
    "    return new_function"
   ]
  },
  {
   "cell_type": "code",
   "execution_count": 4,
   "id": "c89bac9f",
   "metadata": {},
   "outputs": [
    {
     "name": "stdout",
     "output_type": "stream",
     "text": [
      "pygame 2.1.2 (SDL 2.0.18, Python 3.9.7)\n",
      "Hello from the pygame community. https://www.pygame.org/contribute.html\n"
     ]
    }
   ],
   "source": [
    "!python rotate_teapot_x.py"
   ]
  },
  {
   "cell_type": "markdown",
   "id": "03c9989e",
   "metadata": {},
   "source": [
    "### 4.1.4 자신만의 기하학적 변환 발명하기"
   ]
  },
  {
   "cell_type": "code",
   "execution_count": 5,
   "id": "29e6d964",
   "metadata": {},
   "outputs": [],
   "source": [
    "def stretch_v(vector):\n",
    "    x,y,z = vector\n",
    "    return (4.*x,y,z)"
   ]
  },
  {
   "cell_type": "code",
   "execution_count": 6,
   "id": "60777b87",
   "metadata": {},
   "outputs": [
    {
     "name": "stdout",
     "output_type": "stream",
     "text": [
      "pygame 2.1.2 (SDL 2.0.18, Python 3.9.7)\n",
      "Hello from the pygame community. https://www.pygame.org/contribute.html\n"
     ]
    }
   ],
   "source": [
    "!python stretch_teapot.py"
   ]
  },
  {
   "cell_type": "code",
   "execution_count": 7,
   "id": "e3dcc705",
   "metadata": {},
   "outputs": [
    {
     "name": "stdout",
     "output_type": "stream",
     "text": [
      "pygame 2.1.2 (SDL 2.0.18, Python 3.9.7)\n",
      "Hello from the pygame community. https://www.pygame.org/contribute.html\n"
     ]
    }
   ],
   "source": [
    "!python stretch_teapot_y.py"
   ]
  },
  {
   "cell_type": "code",
   "execution_count": 8,
   "id": "4ea6ef3a",
   "metadata": {},
   "outputs": [
    {
     "name": "stdout",
     "output_type": "stream",
     "text": [
      "pygame 2.1.2 (SDL 2.0.18, Python 3.9.7)\n",
      "Hello from the pygame community. https://www.pygame.org/contribute.html\n"
     ]
    }
   ],
   "source": [
    "!python cube_teapot.py"
   ]
  },
  {
   "cell_type": "code",
   "execution_count": 9,
   "id": "6114b9e8",
   "metadata": {},
   "outputs": [],
   "source": [
    "def slant_xy(vector):\n",
    "    x,y,z = vector\n",
    "    return (x+y,y,z)"
   ]
  },
  {
   "cell_type": "code",
   "execution_count": 10,
   "id": "ef012ee2",
   "metadata": {},
   "outputs": [
    {
     "name": "stdout",
     "output_type": "stream",
     "text": [
      "pygame 2.1.2 (SDL 2.0.18, Python 3.9.7)\n",
      "Hello from the pygame community. https://www.pygame.org/contribute.html\n"
     ]
    }
   ],
   "source": [
    "!python slant_teapot.py"
   ]
  },
  {
   "cell_type": "markdown",
   "id": "1d11d166",
   "metadata": {},
   "source": [
    "### 4.1.5 연습문제"
   ]
  },
  {
   "cell_type": "markdown",
   "id": "cb137732",
   "metadata": {},
   "source": [
    "### 연습문제 4.1\n",
    "#### 평행이동 벡터를 입력으로 받아서 평행이동 함수를 출력으로 리턴하는 translate_by 함수를 구현하라."
   ]
  },
  {
   "cell_type": "code",
   "execution_count": 11,
   "id": "fa7f376e",
   "metadata": {},
   "outputs": [],
   "source": [
    "def translate_by(translation):\n",
    "    def new_function(v):\n",
    "        return add(translation,v)\n",
    "    return new_function"
   ]
  },
  {
   "cell_type": "markdown",
   "id": "3ea3bbbc",
   "metadata": {},
   "source": [
    "### 연습문제 4.2\n",
    "#### $z$축의 음의 방향으로 20단위만큼 평행이동한 찻주전자를 렌더링하라. 결과 이미지의 모습을 설명하라."
   ]
  },
  {
   "cell_type": "code",
   "execution_count": 12,
   "id": "aa31aff8",
   "metadata": {},
   "outputs": [
    {
     "name": "stdout",
     "output_type": "stream",
     "text": [
      "pygame 2.1.2 (SDL 2.0.18, Python 3.9.7)\n",
      "Hello from the pygame community. https://www.pygame.org/contribute.html\n"
     ]
    }
   ],
   "source": [
    "!python translate_teapot_down_z.py"
   ]
  },
  {
   "cell_type": "markdown",
   "id": "cda84f34",
   "metadata": {},
   "source": [
    "### 연습문제 4.3 (Mini-project)\n",
    "#### 찻주전자의 모든 벡터를 0에서 1사이의 스칼라 값을 배수로 확대$\\cdot$축소하면 찻주전자가 어떻게 되는가? -1을 배수로 확대$\\cdot$축소하면 어떻게 되는가?"
   ]
  },
  {
   "cell_type": "code",
   "execution_count": 13,
   "id": "fb71e062",
   "metadata": {},
   "outputs": [
    {
     "name": "stdout",
     "output_type": "stream",
     "text": [
      "pygame 2.1.2 (SDL 2.0.18, Python 3.9.7)\n",
      "Hello from the pygame community. https://www.pygame.org/contribute.html\n"
     ]
    }
   ],
   "source": [
    "!python scale_teapot_0.5.py"
   ]
  },
  {
   "cell_type": "code",
   "execution_count": 15,
   "id": "298b62a5",
   "metadata": {},
   "outputs": [
    {
     "name": "stdout",
     "output_type": "stream",
     "text": [
      "pygame 2.1.2 (SDL 2.0.18, Python 3.9.7)\n",
      "Hello from the pygame community. https://www.pygame.org/contribute.html\n"
     ]
    }
   ],
   "source": [
    "!python scale_teapot_-1.py"
   ]
  },
  {
   "cell_type": "markdown",
   "id": "17fe6c68",
   "metadata": {},
   "source": [
    "### 연습문제 4.4 (Mini-project)\n",
    "#### 찻주전자에 `translate1left`를 먼저 적용한 뒤 `scale2`를 적용하라. 이 합성 순서는 앞에서한 것과 반대인데 그 결과가 어떻게 다른지, 왜 다른지 설명하라."
   ]
  },
  {
   "cell_type": "code",
   "execution_count": 16,
   "id": "f372db12",
   "metadata": {},
   "outputs": [
    {
     "name": "stdout",
     "output_type": "stream",
     "text": [
      "pygame 2.1.2 (SDL 2.0.18, Python 3.9.7)\n",
      "Hello from the pygame community. https://www.pygame.org/contribute.html\n"
     ]
    }
   ],
   "source": [
    "!python translate_scale_teapot.py"
   ]
  },
  {
   "cell_type": "markdown",
   "id": "ac122a40",
   "metadata": {},
   "source": [
    "### 연습문제 5.5\n",
    "#### 변환 `compose(scale_by(0.4)`, scale_by(1.5))`의 효과를 설명하라."
   ]
  },
  {
   "cell_type": "markdown",
   "id": "9d6bc838",
   "metadata": {},
   "source": [
    "#### 벡터에 이 변환을 적용하면 1.5배 확대 $\\cdot$ 축소한 뒤 0.6배 확대 $\\cdot$ 축소한다. 최종 확대 $\\cdot$ 축소 배율은 0.6이다. 변환을 적용한 도형은 원래 도형의 크기의 60%이다."
   ]
  },
  {
   "cell_type": "markdown",
   "id": "7119fabb",
   "metadata": {},
   "source": [
    "### 연습문제 4.6\n",
    "#### `compose(f,g)` 함수를 `compose(*args)`로 수정하라. `compose(*args)` 함수는 여러 함수를 인자로 받아 그 함수들을 합성한 새로운 함수를 리턴한다."
   ]
  },
  {
   "cell_type": "code",
   "execution_count": 17,
   "id": "0bdca4c9",
   "metadata": {},
   "outputs": [],
   "source": [
    "def compose(*args):\n",
    "    def new_function(input): #1\n",
    "        state = input #2\n",
    "        for f in reversed(args): #3\n",
    "            state = f(state) #4\n",
    "        return state\n",
    "    return new_function"
   ]
  },
  {
   "cell_type": "code",
   "execution_count": 18,
   "id": "3a567ca0",
   "metadata": {},
   "outputs": [],
   "source": [
    "def prepend(string):\n",
    "    def new_function(input):\n",
    "        return string + input\n",
    "    return new_function\n",
    "\n",
    "f = compose(prepend(\"P\"), prepend(\"y\"), prepend(\"t\"))"
   ]
  },
  {
   "cell_type": "code",
   "execution_count": 19,
   "id": "4526c44d",
   "metadata": {},
   "outputs": [
    {
     "data": {
      "text/plain": [
       "'Python'"
      ]
     },
     "execution_count": 19,
     "metadata": {},
     "output_type": "execute_result"
    }
   ],
   "source": [
    "f(\"hon\")"
   ]
  },
  {
   "cell_type": "markdown",
   "id": "ebe23389",
   "metadata": {},
   "source": [
    "### 연습문제 4.7\n",
    "#### 두 인자를 받는 파이썬 함수 `f(x,y)`를 입력으로 받아 이 함수를 커링한 함수를 리턴하는 `curry2(f)` 함수를 작성하라. 예를 들어 `g = curry2(f)`라고 하면 두 식 `f(x,y)`와 `g(x)(y)`는 동일한 결과를 리턴해야 한다."
   ]
  },
  {
   "cell_type": "code",
   "execution_count": 20,
   "id": "68bb9d64",
   "metadata": {},
   "outputs": [],
   "source": [
    "def curry2(f):\n",
    "    def g(x):\n",
    "        def new_function(y):\n",
    "            return f(x,y)\n",
    "        return new_function\n",
    "    return g"
   ]
  },
  {
   "cell_type": "code",
   "execution_count": 21,
   "id": "3f78e5b6",
   "metadata": {},
   "outputs": [],
   "source": [
    "from vectors import scale"
   ]
  },
  {
   "cell_type": "code",
   "execution_count": 22,
   "id": "180f4998",
   "metadata": {},
   "outputs": [
    {
     "data": {
      "text/plain": [
       "(2, 4, 6)"
      ]
     },
     "execution_count": 22,
     "metadata": {},
     "output_type": "execute_result"
    }
   ],
   "source": [
    "scale(2,(1,2,3))"
   ]
  },
  {
   "cell_type": "code",
   "execution_count": 23,
   "id": "05e2d29f",
   "metadata": {},
   "outputs": [],
   "source": [
    "scale_by = curry2(scale)"
   ]
  },
  {
   "cell_type": "code",
   "execution_count": 24,
   "id": "e05d0bea",
   "metadata": {},
   "outputs": [
    {
     "data": {
      "text/plain": [
       "(2, 4, 6)"
      ]
     },
     "execution_count": 24,
     "metadata": {},
     "output_type": "execute_result"
    }
   ],
   "source": [
    "scale_by(2)((1,2,3))"
   ]
  },
  {
   "cell_type": "markdown",
   "id": "09231a58",
   "metadata": {},
   "source": [
    "### 연습문제 4.8\n",
    "#### 변환 `compose(rotatw_z_by(pi/2), rotate_x_by(pi/2))`를 적용한 결과를 직접 실행하지 않은 채로 설명하라. 또한 합성 순서를 바꾸었을 때의 결과도 설명하라."
   ]
  },
  {
   "cell_type": "markdown",
   "id": "2a3ab7f2",
   "metadata": {},
   "source": [
    "#### 이 합성은 $y$축을 중심으로 $\\pi/2$만큼 시계방향으로 회전한 것과 같다. 순서를 바꾸면 $y$축을 중심으로 $\\pi/2$만큼 반시계방향으로 회전한 것과 같다"
   ]
  },
  {
   "cell_type": "markdown",
   "id": "d164683f",
   "metadata": {},
   "source": [
    "### 연습문제 4.9\n",
    "#### 타깃 벡터를 주어진 배수만큼 확대$\\cdot$축소하지만 $x$방향으로만 확대$\\cdot$축소하는 함수 `stretch_x(scalar,vector)`를 작성하라. 또한 이 함수와 `stretch_x_by(scalar)(vector)`가 동일한 결과가 되도록 커링을 적용한 함수 `stretch_x_by`를 작성하라."
   ]
  },
  {
   "cell_type": "code",
   "execution_count": 25,
   "id": "2f676e77",
   "metadata": {},
   "outputs": [],
   "source": [
    "def stretch_x(scalar,vector):\n",
    "    x,y,z = vector\n",
    "    return (scalar*x, y, z)"
   ]
  },
  {
   "cell_type": "code",
   "execution_count": 26,
   "id": "c7510011",
   "metadata": {},
   "outputs": [],
   "source": [
    "def stretch_x_by(scalar):\n",
    "    def new_function(vector):\n",
    "        return stretch_x(scalar,vector)\n",
    "    return new_function"
   ]
  },
  {
   "cell_type": "code",
   "execution_count": 27,
   "id": "d9e09422",
   "metadata": {},
   "outputs": [
    {
     "data": {
      "text/plain": [
       "(5, 2, 3)"
      ]
     },
     "execution_count": 27,
     "metadata": {},
     "output_type": "execute_result"
    }
   ],
   "source": [
    "stretch_x(5,(1,2,3))"
   ]
  },
  {
   "cell_type": "code",
   "execution_count": 28,
   "id": "71cb678a",
   "metadata": {},
   "outputs": [
    {
     "data": {
      "text/plain": [
       "(5, 2, 3)"
      ]
     },
     "execution_count": 28,
     "metadata": {},
     "output_type": "execute_result"
    }
   ],
   "source": [
    "stretch_x_by(5)((1,2,3))"
   ]
  },
  {
   "cell_type": "markdown",
   "id": "3b2b333c",
   "metadata": {},
   "source": [
    "## 4.2 일차변환"
   ]
  },
  {
   "cell_type": "markdown",
   "id": "386cf0a8",
   "metadata": {},
   "source": [
    "### 4.2.4 일차변환 계산하기"
   ]
  },
  {
   "cell_type": "code",
   "execution_count": 29,
   "id": "156c47a0",
   "metadata": {},
   "outputs": [],
   "source": [
    "from vectors import add,scale"
   ]
  },
  {
   "cell_type": "code",
   "execution_count": 30,
   "id": "7dc18023",
   "metadata": {},
   "outputs": [],
   "source": [
    "Ae1 = (1,1,1) #1\n",
    "Ae2 = (1,0,-1)\n",
    "Ae3 = (0,1,1)\n",
    "\n",
    "def apply_A(v): #2\n",
    "    return add( #3\n",
    "        scale(v[0], Ae1),\n",
    "        scale(v[1], Ae2),\n",
    "        scale(v[2], Ae3)\n",
    "    )"
   ]
  },
  {
   "cell_type": "code",
   "execution_count": 31,
   "id": "f3e59c2f",
   "metadata": {},
   "outputs": [
    {
     "name": "stdout",
     "output_type": "stream",
     "text": [
      "pygame 2.1.2 (SDL 2.0.18, Python 3.9.7)\n",
      "Hello from the pygame community. https://www.pygame.org/contribute.html\n"
     ]
    }
   ],
   "source": [
    "!python linear_transform_teapot.py"
   ]
  },
  {
   "cell_type": "markdown",
   "id": "2e2c5c8c",
   "metadata": {},
   "source": [
    "### 4.2.5 연습문제"
   ]
  },
  {
   "cell_type": "markdown",
   "id": "dba955b9",
   "metadata": {},
   "source": [
    "### 연습문제 4.10\n",
    "#### 각 좌표를 제곱하는 벡터 변환 $S$를 다시 생각하자. 모든 스칼라$s$와 2차원 벡터 $v$에 대해 $S(sv) = sS(v)$가 성립하는 게 아님을 대수적으로 보여라."
   ]
  },
  {
   "cell_type": "code",
   "execution_count": null,
   "id": "70773f1c",
   "metadata": {},
   "outputs": [],
   "source": []
  }
 ],
 "metadata": {
  "kernelspec": {
   "display_name": "Python 3 (ipykernel)",
   "language": "python",
   "name": "python3"
  },
  "language_info": {
   "codemirror_mode": {
    "name": "ipython",
    "version": 3
   },
   "file_extension": ".py",
   "mimetype": "text/x-python",
   "name": "python",
   "nbconvert_exporter": "python",
   "pygments_lexer": "ipython3",
   "version": "3.9.7"
  }
 },
 "nbformat": 4,
 "nbformat_minor": 5
}
