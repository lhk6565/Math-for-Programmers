{
 "cells": [
  {
   "cell_type": "markdown",
   "id": "b06bfb94",
   "metadata": {},
   "source": [
    "# Chapter 04 벡터 변환과 그래픽스"
   ]
  },
  {
   "cell_type": "markdown",
   "id": "6e975979",
   "metadata": {},
   "source": [
    "## 4.1 3차원 객체 변환"
   ]
  },
  {
   "cell_type": "markdown",
   "id": "5ebac6e1",
   "metadata": {},
   "source": [
    "### 4.1.1 변환된 객체 그리기"
   ]
  },
  {
   "cell_type": "code",
   "execution_count": 1,
   "id": "2bc5cc82",
   "metadata": {},
   "outputs": [
    {
     "name": "stdout",
     "output_type": "stream",
     "text": [
      "pygame 2.1.2 (SDL 2.0.18, Python 3.9.7)\n",
      "Hello from the pygame community. https://www.pygame.org/contribute.html\n"
     ]
    }
   ],
   "source": [
    "!python draw_teapot.py"
   ]
  },
  {
   "cell_type": "code",
   "execution_count": 2,
   "id": "03d3e0c0",
   "metadata": {},
   "outputs": [
    {
     "name": "stdout",
     "output_type": "stream",
     "text": [
      "pygame 2.1.2 (SDL 2.0.18, Python 3.9.7)\n",
      "Hello from the pygame community. https://www.pygame.org/contribute.html\n"
     ]
    }
   ],
   "source": [
    "!python scale_teapot.py"
   ]
  },
  {
   "cell_type": "code",
   "execution_count": 3,
   "id": "3a28af6e",
   "metadata": {},
   "outputs": [
    {
     "name": "stdout",
     "output_type": "stream",
     "text": [
      "pygame 2.1.2 (SDL 2.0.18, Python 3.9.7)\n",
      "Hello from the pygame community. https://www.pygame.org/contribute.html\n"
     ]
    }
   ],
   "source": [
    "!python scale_translate_teapot.py"
   ]
  },
  {
   "cell_type": "markdown",
   "id": "d7fa4198",
   "metadata": {},
   "source": [
    "### 4.1.2 벡터 변환 합성"
   ]
  },
  {
   "cell_type": "code",
   "execution_count": 4,
   "id": "633d9b1d",
   "metadata": {},
   "outputs": [],
   "source": [
    "def compose(f1,f2):\n",
    "    def new_function(input):\n",
    "        return f1(f2(input))\n",
    "    return new_function"
   ]
  },
  {
   "cell_type": "code",
   "execution_count": 5,
   "id": "b5effaee",
   "metadata": {},
   "outputs": [],
   "source": [
    "def polygon_map(transformation, polygons):\n",
    "    return [\n",
    "        [transformation(vertex) for vertex in triangle]\n",
    "        for triangle in polygons\n",
    "    ]"
   ]
  },
  {
   "cell_type": "code",
   "execution_count": 6,
   "id": "9b0402e3",
   "metadata": {},
   "outputs": [],
   "source": [
    "def scale_by(scalar):\n",
    "    def new_function(v):\n",
    "        return scale(scalar, v)\n",
    "    return new_function"
   ]
  },
  {
   "cell_type": "markdown",
   "id": "f5a45941",
   "metadata": {},
   "source": [
    "### 4.1.3 축을 기준으로 객체 회전하기"
   ]
  },
  {
   "cell_type": "code",
   "execution_count": 7,
   "id": "60f59f28",
   "metadata": {},
   "outputs": [
    {
     "name": "stdout",
     "output_type": "stream",
     "text": [
      "pygame 2.1.2 (SDL 2.0.18, Python 3.9.7)\n",
      "Hello from the pygame community. https://www.pygame.org/contribute.html\n"
     ]
    }
   ],
   "source": [
    "!python rotate_teapot.py"
   ]
  },
  {
   "cell_type": "code",
   "execution_count": 8,
   "id": "c85a69e1",
   "metadata": {},
   "outputs": [],
   "source": [
    "def rotate_x(angle, vector):\n",
    "    x,y,z = vector\n",
    "    new_y, new_z = rotate2d(angle, (y,z))\n",
    "    return x, new_y, new_z\n",
    "\n",
    "def rotate_x_by(angle):\n",
    "    def new_function(v):\n",
    "        return rotate_x(angle,v)\n",
    "    return new_function"
   ]
  },
  {
   "cell_type": "code",
   "execution_count": 9,
   "id": "c89bac9f",
   "metadata": {},
   "outputs": [
    {
     "name": "stdout",
     "output_type": "stream",
     "text": [
      "pygame 2.1.2 (SDL 2.0.18, Python 3.9.7)\n",
      "Hello from the pygame community. https://www.pygame.org/contribute.html\n"
     ]
    }
   ],
   "source": [
    "!python rotate_teapot_x.py"
   ]
  },
  {
   "cell_type": "markdown",
   "id": "03c9989e",
   "metadata": {},
   "source": [
    "### 4.1.4 자신만의 기하학적 변환 발명하기"
   ]
  },
  {
   "cell_type": "code",
   "execution_count": 10,
   "id": "29e6d964",
   "metadata": {},
   "outputs": [],
   "source": [
    "def stretch_v(vector):\n",
    "    x,y,z = vector\n",
    "    return (4.*x,y,z)"
   ]
  },
  {
   "cell_type": "code",
   "execution_count": 11,
   "id": "60777b87",
   "metadata": {},
   "outputs": [
    {
     "name": "stdout",
     "output_type": "stream",
     "text": [
      "pygame 2.1.2 (SDL 2.0.18, Python 3.9.7)\n",
      "Hello from the pygame community. https://www.pygame.org/contribute.html\n"
     ]
    }
   ],
   "source": [
    "!python stretch_teapot.py"
   ]
  },
  {
   "cell_type": "code",
   "execution_count": 12,
   "id": "e3dcc705",
   "metadata": {},
   "outputs": [
    {
     "name": "stdout",
     "output_type": "stream",
     "text": [
      "pygame 2.1.2 (SDL 2.0.18, Python 3.9.7)\n",
      "Hello from the pygame community. https://www.pygame.org/contribute.html\n"
     ]
    }
   ],
   "source": [
    "!python stretch_teapot_y.py"
   ]
  },
  {
   "cell_type": "code",
   "execution_count": 13,
   "id": "4ea6ef3a",
   "metadata": {},
   "outputs": [
    {
     "name": "stdout",
     "output_type": "stream",
     "text": [
      "pygame 2.1.2 (SDL 2.0.18, Python 3.9.7)\n",
      "Hello from the pygame community. https://www.pygame.org/contribute.html\n"
     ]
    }
   ],
   "source": [
    "!python cube_teapot.py"
   ]
  },
  {
   "cell_type": "code",
   "execution_count": 14,
   "id": "6114b9e8",
   "metadata": {},
   "outputs": [],
   "source": [
    "def slant_xy(vector):\n",
    "    x,y,z = vector\n",
    "    return (x+y,y,z)"
   ]
  },
  {
   "cell_type": "code",
   "execution_count": 15,
   "id": "ef012ee2",
   "metadata": {},
   "outputs": [
    {
     "name": "stdout",
     "output_type": "stream",
     "text": [
      "pygame 2.1.2 (SDL 2.0.18, Python 3.9.7)\n",
      "Hello from the pygame community. https://www.pygame.org/contribute.html\n"
     ]
    }
   ],
   "source": [
    "!python slant_teapot.py"
   ]
  },
  {
   "cell_type": "markdown",
   "id": "1d11d166",
   "metadata": {},
   "source": [
    "### 4.1.5 연습문제"
   ]
  },
  {
   "cell_type": "markdown",
   "id": "cb137732",
   "metadata": {},
   "source": [
    "### 연습문제 4.1\n",
    "#### 평행이동 벡터를 입력으로 받아서 평행이동 함수를 출력으로 리턴하는 translate_by 함수를 구현하라."
   ]
  },
  {
   "cell_type": "code",
   "execution_count": 16,
   "id": "fa7f376e",
   "metadata": {},
   "outputs": [],
   "source": [
    "def translate_by(translation):\n",
    "    def new_function(v):\n",
    "        return add(translation,v)\n",
    "    return new_function"
   ]
  },
  {
   "cell_type": "markdown",
   "id": "3ea3bbbc",
   "metadata": {},
   "source": [
    "### 연습문제 4.2\n",
    "#### $z$축의 음의 방향으로 20단위만큼 평행이동한 찻주전자를 렌더링하라. 결과 이미지의 모습을 설명하라."
   ]
  },
  {
   "cell_type": "code",
   "execution_count": 17,
   "id": "aa31aff8",
   "metadata": {},
   "outputs": [
    {
     "name": "stdout",
     "output_type": "stream",
     "text": [
      "pygame 2.1.2 (SDL 2.0.18, Python 3.9.7)\n",
      "Hello from the pygame community. https://www.pygame.org/contribute.html\n"
     ]
    }
   ],
   "source": [
    "!python translate_teapot_down_z.py"
   ]
  },
  {
   "cell_type": "markdown",
   "id": "cda84f34",
   "metadata": {},
   "source": [
    "### 연습문제 4.3 (Mini-project)\n",
    "#### 찻주전자의 모든 벡터를 0에서 1사이의 스칼라 값을 배수로 확대$\\cdot$축소하면 찻주전자가 어떻게 되는가? -1을 배수로 확대$\\cdot$축소하면 어떻게 되는가?"
   ]
  },
  {
   "cell_type": "code",
   "execution_count": 18,
   "id": "fb71e062",
   "metadata": {},
   "outputs": [
    {
     "name": "stdout",
     "output_type": "stream",
     "text": [
      "pygame 2.1.2 (SDL 2.0.18, Python 3.9.7)\n",
      "Hello from the pygame community. https://www.pygame.org/contribute.html\n"
     ]
    }
   ],
   "source": [
    "!python scale_teapot_0.5.py"
   ]
  },
  {
   "cell_type": "code",
   "execution_count": 19,
   "id": "298b62a5",
   "metadata": {},
   "outputs": [
    {
     "name": "stdout",
     "output_type": "stream",
     "text": [
      "pygame 2.1.2 (SDL 2.0.18, Python 3.9.7)\n",
      "Hello from the pygame community. https://www.pygame.org/contribute.html\n"
     ]
    }
   ],
   "source": [
    "!python scale_teapot_-1.py"
   ]
  },
  {
   "cell_type": "markdown",
   "id": "17fe6c68",
   "metadata": {},
   "source": [
    "### 연습문제 4.4 (Mini-project)\n",
    "#### 찻주전자에 `translate1left`를 먼저 적용한 뒤 `scale2`를 적용하라. 이 합성 순서는 앞에서한 것과 반대인데 그 결과가 어떻게 다른지, 왜 다른지 설명하라."
   ]
  },
  {
   "cell_type": "code",
   "execution_count": 20,
   "id": "f372db12",
   "metadata": {},
   "outputs": [
    {
     "name": "stdout",
     "output_type": "stream",
     "text": [
      "pygame 2.1.2 (SDL 2.0.18, Python 3.9.7)\n",
      "Hello from the pygame community. https://www.pygame.org/contribute.html\n"
     ]
    }
   ],
   "source": [
    "!python translate_scale_teapot.py"
   ]
  },
  {
   "cell_type": "markdown",
   "id": "ac122a40",
   "metadata": {},
   "source": [
    "### 연습문제 5.5\n",
    "#### 변환 `compose(scale_by(0.4)`, scale_by(1.5))`의 효과를 설명하라."
   ]
  },
  {
   "cell_type": "markdown",
   "id": "9d6bc838",
   "metadata": {},
   "source": [
    "#### 벡터에 이 변환을 적용하면 1.5배 확대 $\\cdot$ 축소한 뒤 0.6배 확대 $\\cdot$ 축소한다. 최종 확대 $\\cdot$ 축소 배율은 0.6이다. 변환을 적용한 도형은 원래 도형의 크기의 60%이다."
   ]
  },
  {
   "cell_type": "markdown",
   "id": "7119fabb",
   "metadata": {},
   "source": [
    "### 연습문제 4.6\n",
    "#### `compose(f,g)` 함수를 `compose(*args)`로 수정하라. `compose(*args)` 함수는 여러 함수를 인자로 받아 그 함수들을 합성한 새로운 함수를 리턴한다."
   ]
  },
  {
   "cell_type": "code",
   "execution_count": 21,
   "id": "0bdca4c9",
   "metadata": {},
   "outputs": [],
   "source": [
    "def compose(*args):\n",
    "    def new_function(input): #1\n",
    "        state = input #2\n",
    "        for f in reversed(args): #3\n",
    "            state = f(state) #4\n",
    "        return state\n",
    "    return new_function"
   ]
  },
  {
   "cell_type": "code",
   "execution_count": 22,
   "id": "3a567ca0",
   "metadata": {},
   "outputs": [],
   "source": [
    "def prepend(string):\n",
    "    def new_function(input):\n",
    "        return string + input\n",
    "    return new_function\n",
    "\n",
    "f = compose(prepend(\"P\"), prepend(\"y\"), prepend(\"t\"))"
   ]
  },
  {
   "cell_type": "code",
   "execution_count": 23,
   "id": "4526c44d",
   "metadata": {},
   "outputs": [
    {
     "data": {
      "text/plain": [
       "'Python'"
      ]
     },
     "execution_count": 23,
     "metadata": {},
     "output_type": "execute_result"
    }
   ],
   "source": [
    "f(\"hon\")"
   ]
  },
  {
   "cell_type": "markdown",
   "id": "ebe23389",
   "metadata": {},
   "source": [
    "### 연습문제 4.7\n",
    "#### 두 인자를 받는 파이썬 함수 `f(x,y)`를 입력으로 받아 이 함수를 커링한 함수를 리턴하는 `curry2(f)` 함수를 작성하라. 예를 들어 `g = curry2(f)`라고 하면 두 식 `f(x,y)`와 `g(x)(y)`는 동일한 결과를 리턴해야 한다."
   ]
  },
  {
   "cell_type": "code",
   "execution_count": 24,
   "id": "68bb9d64",
   "metadata": {},
   "outputs": [],
   "source": [
    "def curry2(f):\n",
    "    def g(x):\n",
    "        def new_function(y):\n",
    "            return f(x,y)\n",
    "        return new_function\n",
    "    return g"
   ]
  },
  {
   "cell_type": "code",
   "execution_count": 25,
   "id": "3f78e5b6",
   "metadata": {},
   "outputs": [],
   "source": [
    "from vectors import scale"
   ]
  },
  {
   "cell_type": "code",
   "execution_count": 26,
   "id": "180f4998",
   "metadata": {},
   "outputs": [
    {
     "data": {
      "text/plain": [
       "(2, 4, 6)"
      ]
     },
     "execution_count": 26,
     "metadata": {},
     "output_type": "execute_result"
    }
   ],
   "source": [
    "scale(2,(1,2,3))"
   ]
  },
  {
   "cell_type": "code",
   "execution_count": 27,
   "id": "05e2d29f",
   "metadata": {},
   "outputs": [],
   "source": [
    "scale_by = curry2(scale)"
   ]
  },
  {
   "cell_type": "code",
   "execution_count": 28,
   "id": "e05d0bea",
   "metadata": {},
   "outputs": [
    {
     "data": {
      "text/plain": [
       "(2, 4, 6)"
      ]
     },
     "execution_count": 28,
     "metadata": {},
     "output_type": "execute_result"
    }
   ],
   "source": [
    "scale_by(2)((1,2,3))"
   ]
  },
  {
   "cell_type": "markdown",
   "id": "09231a58",
   "metadata": {},
   "source": [
    "### 연습문제 4.8\n",
    "#### 변환 `compose(rotatw_z_by(pi/2), rotate_x_by(pi/2))`를 적용한 결과를 직접 실행하지 않은 채로 설명하라. 또한 합성 순서를 바꾸었을 때의 결과도 설명하라."
   ]
  },
  {
   "cell_type": "markdown",
   "id": "2a3ab7f2",
   "metadata": {},
   "source": [
    "#### 이 합성은 $y$축을 중심으로 $\\pi/2$만큼 시계방향으로 회전한 것과 같다. 순서를 바꾸면 $y$축을 중심으로 $\\pi/2$만큼 반시계방향으로 회전한 것과 같다"
   ]
  },
  {
   "cell_type": "markdown",
   "id": "d164683f",
   "metadata": {},
   "source": [
    "### 연습문제 4.9\n",
    "#### 타깃 벡터를 주어진 배수만큼 확대$\\cdot$축소하지만 $x$방향으로만 확대$\\cdot$축소하는 함수 `stretch_x(scalar,vector)`를 작성하라. 또한 이 함수와 `stretch_x_by(scalar)(vector)`가 동일한 결과가 되도록 커링을 적용한 함수 `stretch_x_by`를 작성하라."
   ]
  },
  {
   "cell_type": "code",
   "execution_count": 29,
   "id": "2f676e77",
   "metadata": {},
   "outputs": [],
   "source": [
    "def stretch_x(scalar,vector):\n",
    "    x,y,z = vector\n",
    "    return (scalar*x, y, z)"
   ]
  },
  {
   "cell_type": "code",
   "execution_count": 30,
   "id": "c7510011",
   "metadata": {},
   "outputs": [],
   "source": [
    "def stretch_x_by(scalar):\n",
    "    def new_function(vector):\n",
    "        return stretch_x(scalar,vector)\n",
    "    return new_function"
   ]
  },
  {
   "cell_type": "code",
   "execution_count": 31,
   "id": "d9e09422",
   "metadata": {},
   "outputs": [
    {
     "data": {
      "text/plain": [
       "(5, 2, 3)"
      ]
     },
     "execution_count": 31,
     "metadata": {},
     "output_type": "execute_result"
    }
   ],
   "source": [
    "stretch_x(5,(1,2,3))"
   ]
  },
  {
   "cell_type": "code",
   "execution_count": 32,
   "id": "71cb678a",
   "metadata": {},
   "outputs": [
    {
     "data": {
      "text/plain": [
       "(5, 2, 3)"
      ]
     },
     "execution_count": 32,
     "metadata": {},
     "output_type": "execute_result"
    }
   ],
   "source": [
    "stretch_x_by(5)((1,2,3))"
   ]
  },
  {
   "cell_type": "markdown",
   "id": "3b2b333c",
   "metadata": {},
   "source": [
    "## 4.2 일차변환"
   ]
  },
  {
   "cell_type": "markdown",
   "id": "386cf0a8",
   "metadata": {},
   "source": [
    "### 4.2.4 일차변환 계산하기"
   ]
  },
  {
   "cell_type": "code",
   "execution_count": 33,
   "id": "156c47a0",
   "metadata": {},
   "outputs": [],
   "source": [
    "from vectors import add,scale"
   ]
  },
  {
   "cell_type": "code",
   "execution_count": 34,
   "id": "7dc18023",
   "metadata": {},
   "outputs": [],
   "source": [
    "Ae1 = (1,1,1) #1\n",
    "Ae2 = (1,0,-1)\n",
    "Ae3 = (0,1,1)\n",
    "\n",
    "def apply_A(v): #2\n",
    "    return add( #3\n",
    "        scale(v[0], Ae1),\n",
    "        scale(v[1], Ae2),\n",
    "        scale(v[2], Ae3)\n",
    "    )"
   ]
  },
  {
   "cell_type": "code",
   "execution_count": 35,
   "id": "f3e59c2f",
   "metadata": {},
   "outputs": [
    {
     "name": "stdout",
     "output_type": "stream",
     "text": [
      "pygame 2.1.2 (SDL 2.0.18, Python 3.9.7)\n",
      "Hello from the pygame community. https://www.pygame.org/contribute.html\n"
     ]
    }
   ],
   "source": [
    "!python linear_transform_teapot.py"
   ]
  },
  {
   "cell_type": "markdown",
   "id": "2e2c5c8c",
   "metadata": {},
   "source": [
    "### 4.2.5 연습문제"
   ]
  },
  {
   "cell_type": "markdown",
   "id": "dba955b9",
   "metadata": {},
   "source": [
    "### 연습문제 4.10\n",
    "#### 각 좌표를 제곱하는 벡터 변환 $S$를 다시 생각하자. 모든 스칼라$s$와 2차원 벡터 $v$에 대해 $S(sv) = sS(v)$가 성립하는 게 아님을 대수적으로 보여라."
   ]
  },
  {
   "cell_type": "markdown",
   "id": "b3c52cf0",
   "metadata": {},
   "source": [
    "#### $V = (x,y)$라고 하면 $sV = (sx,xy), S(sV) = (s^2x^2,s^2y^2) = s^2 \\cdot (x^2,y^2)s^2 \\cdot S(V)$이다. $s$값 대부분과 벡터 $V$에 대해 $S(sV) = s^2 \\cdot S(V)$는 $s \\cdot S(V)$와 같지 않다. 반례는 $s = 2$이고 $V = (1,1,1)$가 있다. $S(sV) = (4,4,4)$이지만 $s \\cdot S(V) = (2,2,2)$이다. 이 반례는 $S$는 일차변환이 아님을 보여준다."
   ]
  },
  {
   "cell_type": "markdown",
   "id": "d7598223",
   "metadata": {},
   "source": [
    "### 연습문제 4.11\n",
    "#### $T$가 벡터 변환이며 $T(0) \\neq 0$을 만족한다고 하자. 여기서 $0$은 모든 좌표가 0인 벡터이다. $T$가 일차변환이 아닌 이유를 정의에 따라 보여라."
   ]
  },
  {
   "cell_type": "markdown",
   "id": "aa2a43e0",
   "metadata": {},
   "source": [
    "#### 임의의 벡터 $V$에 대해 $V + 0 = v$이다. $T$가 벡터합을 보존하려면 $T(v + 0) = T(V) + T(0)$이어야 한다. $T(V+0) = T(V)$이므로 $T(V) = T(V) + T(0)$, 즉 $0 = T(0)$이어야 한다. $T$는 이를 만족하지 않으므로, $T$는 일차변환일 수 없다."
   ]
  },
  {
   "cell_type": "markdown",
   "id": "2cbe4b0d",
   "metadata": {},
   "source": [
    "### 연습문제 4.12\n",
    "#### 항등변환(identity transformation)은 입력으로 받은 벡터를 그래도 리턴하는 벡터 변환이다. 대문자 $I$로 표기하며 모든 벡터 $v$에 대해 $I(v) = v$라고 정의한다. $I$가 일차변환인 이유를 설명하라."
   ]
  },
  {
   "cell_type": "markdown",
   "id": "909c26da",
   "metadata": {},
   "source": [
    "#### 임의의 벡터 $v$와 $w$에 대해 $I(v+w) = v + w = I(v) + I(w)$이고, 임의의 스칼라 $s$에 대해 $I(sv) = sv = s \\cdot I(v)$이다. 두 등식은 항등변환이 벡터합과 스칼라곱을 보존함을 보여준다."
   ]
  },
  {
   "cell_type": "markdown",
   "id": "b44e7645",
   "metadata": {},
   "source": [
    "### 연습문제 4.13\n",
    "#### (5,3)과 (-2,1)의 중점을 구하라. 중점까지 세 점을 플로팅해보고 두 결과가 일치하는지 확인하라."
   ]
  },
  {
   "cell_type": "markdown",
   "id": "8aa2d544",
   "metadata": {},
   "source": [
    "#### 중점은 $\\frac{1}{2}(5,3) + \\frac{1}{2}(-2,1) = (\\frac{5}{2},\\frac{3}{2}) + (-1,\\frac{1}{2}) = (\\frac{3}{2},2)$이다."
   ]
  },
  {
   "cell_type": "markdown",
   "id": "24f38d51",
   "metadata": {},
   "source": [
    "### 연습문제 4.14\n",
    "#### $v = (x,y)$를 $(x^2,y^2)$으로 보내는, 일차변환이 아닌 변환 $S(v)$를 다시 생각하자. 2장의 그리기 코드를 사용해 각 좌표가 0에서 5사이의 정수인 36개의 $v$를 모두 점으로 그리고, 각 점에 대한 $S(v)$를 플로팅 하라. $S$의 동작에 따라 기하학적으로 벡터에 어떤 변화가 나타나는지 설명하라."
   ]
  },
  {
   "cell_type": "markdown",
   "id": "e55ccf52",
   "metadata": {},
   "source": [
    "#### 처음에는 점 사이 간격이 일정하지만 변환 후의 그림에서는 $x$좌표와 $y$좌표가 증가할수록 수직 방향과 수평 방향에서의 간격이 각각 증가한다"
   ]
  },
  {
   "cell_type": "markdown",
   "id": "91aee514",
   "metadata": {},
   "source": [
    "### 연습문제 4.16\n",
    "#### 2차원 벡터 변환 중 하나는 $x$축에 대한 대칭이동이다. 이 변환은 벡터를 입력으로 받아 다른 벡터를 리턴하는데, 이는 $x$축에 대한 거울상에 해당한다. 이 벡터의 $x$좌표는 변하지 않지만 $y$좌표의 부호가 바뀐다. 이 변환을 $S_x$라고 표기할 때, 벡터 $v = (3,2)$와 대칭이동된 벡터 $S_x(v)$를 그린 그림은 다음과 같다.\n",
    "#### $x$축에 대한 대칭이동이 벡터합을 보존함을 보이기 위해 두 벡터와 두 벡터의 벡터합, 그리고 이 세 벡터를 대칭이동한 벡터를 각각 그려라. 비슷하게 스칼라곱을 보존함을 보이는 그림을 그려서 일차결합의 선형성을 평가하는 두 가지 기주을 모두 만족함을 확인하라."
   ]
  },
  {
   "cell_type": "markdown",
   "id": "448f8480",
   "metadata": {},
   "source": [
    "#### $S_x$가 일차변환임을 증명(prove)하려면 유사한 그림을 모든 벡터합과 모든 스칼라곱에 대해 그려서 보여줘야 한다. 그렇게 하려면 그림을 무수히 많이 그려야 하므로 대수적인 증명법을 사용하는게 낫다. (두 기준을 대수적으로 보이는 법을 생각해낼 수 있을까?)"
   ]
  },
  {
   "cell_type": "markdown",
   "id": "04f776f0",
   "metadata": {},
   "source": [
    "### 연습문제 4.17 (Mini-project)\n",
    "#### 일차변환 $S, T$에 대하여 $S$와 $T$의 합성변환 또한 일차변환인 이유를 설명하라."
   ]
  },
  {
   "cell_type": "markdown",
   "id": "c89efeee",
   "metadata": {},
   "source": [
    "#### 임의의 벡터합 $u + v = w$에 대해 $S(T(u)) + S(T(v)) = S(T(w))$가 성립하고 임의의 스칼라곱 $sv$에 대해 $S(T(sv)) = s \\cdot S(T(v))$가 성립하면 합성변환 $S(T(v))$는 일차변환이다. 이는 반드시 만족해야 하는 일차변환의 정의를 서술했을 뿐이다.\n",
    "#### 이제 합성변환이 일차변환이라는 명제가 참인 이유를 살펴보자. 임의의 두 입력 벡터 $u$와 $v$가 주어질 때, $u + v = w$가 성립한다고 하자. 그러면 $T$의 선형성으로 인해 $T(u) + T(v) = T(w)$이다. 또한 이 합이 성립하므로 $S$의 선형성은 $S$가 이 합을 보존할 것임을 안다. 즉, $S(T(u)) + S(T(v)) = S(T(w))$이다. 이는 $S(T(v))$가 벡터합을 보존함을 의미한다.\n",
    "#### 마찬가지로 임의의 스칼라곱 $sv$에 대해 $T$의 선형성은 $s \\cdot T(v) = T(sv)$임을 알려준다. 따라서 $S$의 선형성은 $s \\cdot S(T(v)) = S(T(sv))$도 성립함을 말해준다. 이는 $S(T(v))$가 스칼라곱을 보존함을 의미하며, 따라서 $S(T(v))$는 앞서 말한 선형성 정의 전부를 만족한다. 그러므로 두 일차변환의 합성변환이 일차변환이라고 결론지을 수 있다."
   ]
  },
  {
   "cell_type": "markdown",
   "id": "2422129a",
   "metadata": {},
   "source": [
    "### 연습문제 4.18\n",
    "#### $T$가 파이썬 함수 `rotate_x_by(pi/2)`를 수행하는 일차변환이라 하자. $T(e_1), T(e_2), T(e_3)$를 각각 구하라."
   ]
  },
  {
   "cell_type": "markdown",
   "id": "b33154f4",
   "metadata": {},
   "source": [
    "#### 특정한 축에 대한 회전은 축 위의 점에 아무런 영향을 끼치지 않는다. 따라서 $T(e_1)$이 $x$축 위에 있음을 고려할 때 $T(e_1) = e_1 = (1,0,0)$이다. $yz$평면에 위치한 $e_2 = (0,1,0)$을 $x$축을 기준으로 반시계방향으로 90$^\\circ$만큼 회전하면 $y$축의 양의 방향으로 1단위에 위치한 점을 가리키는 벡터가 $z$축의 양의 방향으로 1단위에 위치한 점을 가리킨다. 따라서 $T(e_2) = e_3 = (0,0,1)$이다. 마찬가지로 $e_3$를 반시계방향으로 회전하면 $z$축의 양의 방향이 $y$축의 음의 방향이 된다. $T(e_3)$가 새로운 방향에서도 여전히 길이가 1이기 때문에 $T(e_3)$는 -$e_2$로, 다시 말해 (0,-1,0)이다."
   ]
  },
  {
   "cell_type": "markdown",
   "id": "2936fbf9",
   "metadata": {},
   "source": [
    "### 연습문제 4.19\n",
    "#### 스칼라 리스트 및 스칼라와 같은 개수의 벡터를 입력으로 받아서 단일 벡터를 리턴하는 파이썬 함수 `linear_combination(scalars,*vectors)`를 작성하라. 예를 들어 `linear_combination([1,2,3], (1,0,0), (0,1,0), (0,0,1))`은 $1 \\cdot (1,0,0) + 2 \\cdot (0,1,0) + 3 \\cdot (0,0,1),$ 즉 (1,2,3)을 리턴해야 한다."
   ]
  },
  {
   "cell_type": "code",
   "execution_count": 36,
   "id": "b5d9d6cf",
   "metadata": {},
   "outputs": [],
   "source": [
    "from vectors import *\n",
    "def linear_combination(scalars,*vectors):\n",
    "    scaled = [scale(s,v) for s,v in zip(scalars,vectors)]\n",
    "    return add(*scaled)"
   ]
  },
  {
   "cell_type": "code",
   "execution_count": 37,
   "id": "0bcb4995",
   "metadata": {},
   "outputs": [
    {
     "data": {
      "text/plain": [
       "(1, 2, 3)"
      ]
     },
     "execution_count": 37,
     "metadata": {},
     "output_type": "execute_result"
    }
   ],
   "source": [
    "linear_combination([1,2,3], (1,0,0), (0,1,0), (0,0,1))"
   ]
  },
  {
   "cell_type": "markdown",
   "id": "d3a64458",
   "metadata": {},
   "source": [
    "### 연습문제 4.20\n",
    "#### 3차원 벡터 변환을 입력으로 받고 표준 기저에 영향을 준 결과를 출력하는 파이썬 함수 `transform_standard_basis(transform)`을 작성하라."
   ]
  },
  {
   "cell_type": "code",
   "execution_count": 38,
   "id": "bbe42f40",
   "metadata": {},
   "outputs": [],
   "source": [
    "def transform_standard_basis(transform):\n",
    "    return transform((1,0,0)), transform((0,1,0)), transform((0,0,1))"
   ]
  },
  {
   "cell_type": "code",
   "execution_count": 39,
   "id": "96edbe01",
   "metadata": {},
   "outputs": [],
   "source": [
    "from math import *"
   ]
  },
  {
   "cell_type": "code",
   "execution_count": 40,
   "id": "d6ebb0e6",
   "metadata": {},
   "outputs": [
    {
     "data": {
      "text/plain": [
       "((1, 0.0, 0.0),\n",
       " (0, 6.123233995736766e-17, 1.0),\n",
       " (0, -1.0, 1.2246467991473532e-16))"
      ]
     },
     "execution_count": 40,
     "metadata": {},
     "output_type": "execute_result"
    }
   ],
   "source": [
    "transform_standard_basis(rotate_x_by(pi/2))"
   ]
  },
  {
   "cell_type": "markdown",
   "id": "30c98341",
   "metadata": {},
   "source": [
    "### 연습문제 4.21\n",
    "#### $B$를 $B(e_1) = (0,0,1), B(e_2) = (2,1,0), B(e_3) = (-1,0,-1)$인 일차변환이라고 하고 $v = (-1,1,2)$라고 하자. 이때, $B(v)$를 구하라."
   ]
  },
  {
   "cell_type": "markdown",
   "id": "9b43afab",
   "metadata": {},
   "source": [
    "#### $v = (-1,1,2) = -e_1 + e_2 + 2e_3$이므로 $B(v) = B(-e_1 + e_2 + 2e_3)$이다. $B$가 일차변환이므로 $B$는 일차결합을 보존한다. 따라서 $B(v) = -B(e_1) + B(e_2) + 2 \\cdot B(e_3)$가 성립한다. 이제 $B(v) = -(0,0,1) + (2,1,0) + 2 \\cdot (-1,0,-1) = (0,1,-3)$이다."
   ]
  },
  {
   "cell_type": "markdown",
   "id": "4309ef10",
   "metadata": {},
   "source": [
    "### 연습문제 4.22\n",
    "#### $A$와 $B$가 모두 일차변환이며 다음을 만족한다고 하자.\n",
    "#### <center> $A(e_1) = (1,1,1), A(e_2) = (1,0,-1), A(e_3) = (0,1,1)$ </center>\n",
    "#### <center> $B(e_1) = (0,0,1), B(e_2) = (2,1,0), B(e_3) = (-1,0,-1)$ </center>\n",
    "#### 이때, $A(B(e_1)), A(B(e_2)), A(B(e_3))$를 구하라."
   ]
  },
  {
   "cell_type": "markdown",
   "id": "f9bc1ea8",
   "metadata": {},
   "source": [
    "#### $A(B(e_1))$는 $B(e_1) = (0,0,1) = e_3$에 $A$를 적용해서 얻는다. 이미 $A(e_3) = (0,1,1)$임을 알기에 $A(B(e_1)) = (0,1,1)$이다.\n",
    "#### $A(B(e_2))$는 $B(e_2) = (2,1,0)$에 $A$를 적용해서 얻는다. 이 벡터는 $A(e_1), A(e_2), A(e_3)$와 스칼라 (2,1,0)의 일차결합이다. 따라서 $A(B(e_2))$는 $2 \\cdot (1,1,1) + 1 \\cdot (1,0,-1) + 0 \\cdot (0,1,1) = (3,2,1)$이다.\n",
    "#### $A(B(e_3))$는 $B(e_3) = (-1,0,-1)$에 $A$를 적용해서 얻는다. 이는 일차변환 $-1 \\cdot (1,1,1) + 0 \\cdot (1,0,-1) \\pm 1 \\cdot (0,1,1) = (-1,-2,-2)$이다.\n",
    "#### 모든 표준 기저 벡터에 대한 $A$와 $B$의 합성 결과를 알았으니 임의의 벡터 $v$에 대해 $A(B(v))$를 계산할 수 있다."
   ]
  }
 ],
 "metadata": {
  "kernelspec": {
   "display_name": "Python 3 (ipykernel)",
   "language": "python",
   "name": "python3"
  },
  "language_info": {
   "codemirror_mode": {
    "name": "ipython",
    "version": 3
   },
   "file_extension": ".py",
   "mimetype": "text/x-python",
   "name": "python",
   "nbconvert_exporter": "python",
   "pygments_lexer": "ipython3",
   "version": "3.9.7"
  }
 },
 "nbformat": 4,
 "nbformat_minor": 5
}
