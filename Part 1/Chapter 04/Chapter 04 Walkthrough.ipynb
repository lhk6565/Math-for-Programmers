{
 "cells": [
  {
   "cell_type": "markdown",
   "id": "b06bfb94",
   "metadata": {},
   "source": [
    "# Chapter 04 벡터 변환과 그래픽스"
   ]
  },
  {
   "cell_type": "markdown",
   "id": "6e975979",
   "metadata": {},
   "source": [
    "## 4.1 3차원 객체 변환"
   ]
  },
  {
   "cell_type": "markdown",
   "id": "5ebac6e1",
   "metadata": {},
   "source": [
    "### 4.1.1 변환된 객체 그리기"
   ]
  },
  {
   "cell_type": "code",
   "execution_count": 1,
   "id": "33b2647d",
   "metadata": {},
   "outputs": [
    {
     "name": "stdout",
     "output_type": "stream",
     "text": [
      "pygame 2.1.2 (SDL 2.0.18, Python 3.9.7)\n",
      "Hello from the pygame community. https://www.pygame.org/contribute.html\n"
     ]
    }
   ],
   "source": [
    "!python draw_teapot.py"
   ]
  },
  {
   "cell_type": "code",
   "execution_count": 2,
   "id": "03d3e0c0",
   "metadata": {},
   "outputs": [
    {
     "name": "stdout",
     "output_type": "stream",
     "text": [
      "pygame 2.1.2 (SDL 2.0.18, Python 3.9.7)\n",
      "Hello from the pygame community. https://www.pygame.org/contribute.html\n"
     ]
    }
   ],
   "source": [
    "!python scale_teapot.py"
   ]
  },
  {
   "cell_type": "code",
   "execution_count": 3,
   "id": "3a28af6e",
   "metadata": {},
   "outputs": [
    {
     "name": "stdout",
     "output_type": "stream",
     "text": [
      "pygame 2.1.2 (SDL 2.0.18, Python 3.9.7)\n",
      "Hello from the pygame community. https://www.pygame.org/contribute.html\n"
     ]
    }
   ],
   "source": [
    "!python scale_translate_teapot.py"
   ]
  },
  {
   "cell_type": "markdown",
   "id": "d7fa4198",
   "metadata": {},
   "source": [
    "### 4.1.2 벡터 변환 합성"
   ]
  },
  {
   "cell_type": "code",
   "execution_count": null,
   "id": "633d9b1d",
   "metadata": {},
   "outputs": [],
   "source": []
  }
 ],
 "metadata": {
  "kernelspec": {
   "display_name": "Python 3 (ipykernel)",
   "language": "python",
   "name": "python3"
  },
  "language_info": {
   "codemirror_mode": {
    "name": "ipython",
    "version": 3
   },
   "file_extension": ".py",
   "mimetype": "text/x-python",
   "name": "python",
   "nbconvert_exporter": "python",
   "pygments_lexer": "ipython3",
   "version": "3.9.7"
  }
 },
 "nbformat": 4,
 "nbformat_minor": 5
}
