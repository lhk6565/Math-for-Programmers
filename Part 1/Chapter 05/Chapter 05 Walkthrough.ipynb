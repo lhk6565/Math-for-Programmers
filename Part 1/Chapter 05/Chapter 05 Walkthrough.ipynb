{
 "cells": [
  {
   "cell_type": "markdown",
   "id": "838495d9",
   "metadata": {},
   "source": [
    "# Chapter 05 행렬로 변환 계산하기"
   ]
  },
  {
   "cell_type": "markdown",
   "id": "0aa974ca",
   "metadata": {},
   "source": [
    "## 5.1 행렬로 일차변환 표현하기"
   ]
  },
  {
   "cell_type": "markdown",
   "id": "cbb31261",
   "metadata": {},
   "source": [
    "### 5.1.2 행렬과 벡터 곱하기"
   ]
  },
  {
   "cell_type": "code",
   "execution_count": 1,
   "id": "bd15f1ca",
   "metadata": {},
   "outputs": [],
   "source": [
    "B = (\n",
    "    (0,2,1),\n",
    "    (0,1,0),\n",
    "    (1,0,-1)\n",
    ")\n",
    "\n",
    "v = (3,-2,5)"
   ]
  },
  {
   "cell_type": "code",
   "execution_count": 2,
   "id": "ca1ef67e",
   "metadata": {},
   "outputs": [
    {
     "data": {
      "text/plain": [
       "[(0, 0, 1), (2, 1, 0), (1, 0, -1)]"
      ]
     },
     "execution_count": 2,
     "metadata": {},
     "output_type": "execute_result"
    }
   ],
   "source": [
    "list(zip(*B))"
   ]
  },
  {
   "cell_type": "code",
   "execution_count": 3,
   "id": "ec9494fb",
   "metadata": {},
   "outputs": [],
   "source": [
    "from vectors import *\n",
    "def linear_combination(scalars,*vectors):\n",
    "    scaled = [scale(s,v) for s,v in zip(scalars,vectors)]\n",
    "    return add(*scaled)"
   ]
  },
  {
   "cell_type": "code",
   "execution_count": 4,
   "id": "9104306b",
   "metadata": {},
   "outputs": [],
   "source": [
    "def multiply_matrix_vector(matrix, vector):\n",
    "    return linear_combination(vector, *zip(*matrix))"
   ]
  },
  {
   "cell_type": "code",
   "execution_count": 5,
   "id": "548f1100",
   "metadata": {},
   "outputs": [
    {
     "data": {
      "text/plain": [
       "(1, -2, -2)"
      ]
     },
     "execution_count": 5,
     "metadata": {},
     "output_type": "execute_result"
    }
   ],
   "source": [
    "multiply_matrix_vector(B,v)"
   ]
  },
  {
   "cell_type": "markdown",
   "id": "6907e867",
   "metadata": {},
   "source": [
    "### 5.1.4 행렬 곱 구현하기"
   ]
  },
  {
   "cell_type": "code",
   "execution_count": 6,
   "id": "ac2bf9d8",
   "metadata": {},
   "outputs": [],
   "source": [
    "from vectors import *\n",
    "def matrix_multiply(a,b):\n",
    "    return tuple(\n",
    "    tuple(dot(row,col) for col in zip(*b))\n",
    "    for row in a\n",
    ")"
   ]
  },
  {
   "cell_type": "code",
   "execution_count": 7,
   "id": "45126333",
   "metadata": {},
   "outputs": [
    {
     "data": {
      "text/plain": [
       "((0, 3, 1), (1, 2, 0), (1, 1, 0))"
      ]
     },
     "execution_count": 7,
     "metadata": {},
     "output_type": "execute_result"
    }
   ],
   "source": [
    "a = ((1,1,0),(1,0,1),(1,-1,1))\n",
    "b = ((0,2,1),(0,1,0),(1,0,-1))\n",
    "matrix_multiply(a,b)"
   ]
  },
  {
   "cell_type": "code",
   "execution_count": 8,
   "id": "310361e8",
   "metadata": {},
   "outputs": [
    {
     "data": {
      "text/plain": [
       "((2, -1), (4, -3))"
      ]
     },
     "execution_count": 8,
     "metadata": {},
     "output_type": "execute_result"
    }
   ],
   "source": [
    "c = ((1,2),(3,4))\n",
    "d = ((0,-1),(1,0))\n",
    "matrix_multiply(c,d)"
   ]
  },
  {
   "cell_type": "markdown",
   "id": "521cf6f2",
   "metadata": {},
   "source": [
    "### 5.1.5 행렬 변환을 통한 3차원 애니메이션"
   ]
  },
  {
   "cell_type": "code",
   "execution_count": 9,
   "id": "08d00421",
   "metadata": {},
   "outputs": [
    {
     "name": "stdout",
     "output_type": "stream",
     "text": [
      "pygame 2.1.2 (SDL 2.0.18, Python 3.9.7)\n",
      "Hello from the pygame community. https://www.pygame.org/contribute.html\n"
     ]
    }
   ],
   "source": [
    "from teapot import load_triangles\n",
    "from draw_model import draw_model\n",
    "from math import sin,cos"
   ]
  },
  {
   "cell_type": "code",
   "execution_count": 10,
   "id": "eb2b0c40",
   "metadata": {},
   "outputs": [],
   "source": [
    "def get_rotation_matrix(t):\n",
    "    seconds = t/1000\n",
    "    return (\n",
    "        (cos(seconds),0,-sin(seconds)),\n",
    "        (0,1,0),\n",
    "        (sin(seconds),0,cos(seconds))\n",
    "    )"
   ]
  },
  {
   "cell_type": "code",
   "execution_count": 11,
   "id": "c8f182d6",
   "metadata": {},
   "outputs": [
    {
     "name": "stdout",
     "output_type": "stream",
     "text": [
      "pygame 2.1.2 (SDL 2.0.18, Python 3.9.7)\n",
      "Hello from the pygame community. https://www.pygame.org/contribute.html\n"
     ]
    }
   ],
   "source": [
    "!python animate_teapot.py"
   ]
  },
  {
   "cell_type": "markdown",
   "id": "a8b69cce",
   "metadata": {},
   "source": [
    "### 5.1.6 연습문제"
   ]
  },
  {
   "cell_type": "markdown",
   "id": "e5e6ac97",
   "metadata": {},
   "source": [
    "### 연습문제 5.1\n",
    "#### 함수 `infer_matrix(n, transformation)`를 작성하라. 이 함수는 (2차원이나 3차원같이) 차원과 일차변환으로 가정된 벡터 변환을 입력으로 받는다."
   ]
  },
  {
   "cell_type": "code",
   "execution_count": 12,
   "id": "79d16eb0",
   "metadata": {},
   "outputs": [],
   "source": [
    "def infer_matrix(n, transformation):\n",
    "    def standard_basis_vector(i):\n",
    "        return tuple(1 if i==j else 0 for j in range(1,n+1)) #1\n",
    "    standard_basis = [standard_basis_vector(i) for i in range(1,n+1)] #2\n",
    "    cols = [transformation(v) for v in standard_basis] #3\n",
    "    return tuple(zip(*cols)) #4"
   ]
  },
  {
   "cell_type": "code",
   "execution_count": 13,
   "id": "40ba6b47",
   "metadata": {},
   "outputs": [],
   "source": [
    "from transforms import rotate_z_by\n",
    "from math import pi"
   ]
  },
  {
   "cell_type": "code",
   "execution_count": 14,
   "id": "5f5f9947",
   "metadata": {},
   "outputs": [
    {
     "data": {
      "text/plain": [
       "((6.123233995736766e-17, -1.0, 0.0),\n",
       " (1.0, 1.2246467991473532e-16, 0.0),\n",
       " (0, 0, 1))"
      ]
     },
     "execution_count": 14,
     "metadata": {},
     "output_type": "execute_result"
    }
   ],
   "source": [
    "infer_matrix(3,rotate_z_by(pi/2))"
   ]
  },
  {
   "cell_type": "markdown",
   "id": "918ca487",
   "metadata": {},
   "source": [
    "### 연습문제 5.2\n",
    "#### 다음 $2 \\times 2$ 행렬과 2차원 벡터를 곱한 결과를 구하라.\n",
    "<center> $\n",
    "\\left(\\begin{array}{cc} \n",
    "1.3 & 0.7\\\\\n",
    "6.5 & 3.2\n",
    "\\end{array}\\right)\n",
    "\\left(\\begin{array}{cc} \n",
    "-2.5\\\\ \n",
    "0.3\n",
    "\\end{array}\\right)\n",
    "$  </center>"
   ]
  },
  {
   "cell_type": "markdown",
   "id": "7b9f6bd0",
   "metadata": {},
   "source": [
    "#### 행렬의 첫 번째 행과 벡터의 내적은 $-2.5 \\cdot 1.3 + 0.3 \\cdot -0.7 = -3.46$이다. 행렬의 두 번째 행과 벡터의 내적은 $-2.5 \\cdot 6.5 + 0.3 \\cdot 3.2 = -15.29$이다. 이 두 값은 출력 벡터의 좌표이며, 그 결과는 다음과 같다.\n",
    "<center> $\n",
    "\\left(\\begin{array}{cc} \n",
    "1.3 & 0.7\\\\\n",
    "6.5 & 3.2\n",
    "\\end{array}\\right)\n",
    "\\left(\\begin{array}{cc} \n",
    "-2.5\\\\ \n",
    "0.3\n",
    "\\end{array}\\right)\n",
    "=\n",
    "\\left(\\begin{array}{cc} \n",
    "-3.46\\\\ \n",
    "-15.29\n",
    "\\end{array}\\right)\n",
    "$  </center>"
   ]
  },
  {
   "cell_type": "markdown",
   "id": "65c9a19f",
   "metadata": {},
   "source": [
    "### 연습문제 5.3 (Mini-project)\n",
    "#### 주어진 크기대로 랜덤 정수 성분으로 구성된 행렬을 만드는 `random_matrix` 함수를 작성하라. 이 함수를 사용해 $3 \\times 3$ 행렬을 다섯 쌍 생성하라. 각 쌍을 연습 삼아 직접 곱해본 뒤, `matrix_multiply` 함수로 검산하라"
   ]
  },
  {
   "cell_type": "code",
   "execution_count": 15,
   "id": "e683a3a6",
   "metadata": {},
   "outputs": [],
   "source": [
    "from random import randint\n",
    "def random_matrix(rows,cols,min=-2,max=2):\n",
    "    return tuple(\n",
    "        tuple(\n",
    "        randint(min,max) for j in range(0,cols))\n",
    "        for i in range(0,rows)\n",
    "    )"
   ]
  },
  {
   "cell_type": "code",
   "execution_count": 16,
   "id": "32b34503",
   "metadata": {},
   "outputs": [
    {
     "data": {
      "text/plain": [
       "((5, 4, 1), (9, 2, 6), (2, 5, 3))"
      ]
     },
     "execution_count": 16,
     "metadata": {},
     "output_type": "execute_result"
    }
   ],
   "source": [
    "random_matrix(3,3,0,10)"
   ]
  },
  {
   "cell_type": "markdown",
   "id": "98f9057e",
   "metadata": {},
   "source": [
    "### 연습문제 5.4\n",
    "#### [연습문제 5.3]에서 각 행렬 쌍 $A, B$에 대해, $AB$가 아니라 $BA$처럼 순서를 바꾸어 곱하라. 같은 결과가 도출되는가?"
   ]
  },
  {
   "cell_type": "markdown",
   "id": "2c4dedc8",
   "metadata": {},
   "source": [
    "#### 운이 좋은 경우만 제외하면 결과는 모두 다를 것이다. 행렬 쌍은 순서를 뒤집어서 곱하면 대부분 결과가 다르게 나온다. 입력 순서에 상관없이 같은 결과를 내는 연산을 수학 용어로 가환성(commutative)이 있다1고 한다. 어떤 두 수 $x, y$를 선택하더라도 $xy = yx$가 성립하기 때문에, 수의 곱셈은 가환성이 있는 연산이다. 하지만 행렬곱은 가환성이 없는데, 두 정사각행렬 $A, B$에 대해 $AB$가 $BA$와 언제나 같은 건 아니기 때문이다."
   ]
  },
  {
   "cell_type": "markdown",
   "id": "806e446c",
   "metadata": {},
   "source": [
    "### 연습문제 5.5\n",
    "#### 2차원에서 또는 3차원에서 당연하면서도 중요한 벡터 변환으로 항등변환이 있는데, 항등변환은 벡터를 입력으로 받아서 동일한 벡터를 출력으로 리턴한다. 이 변환은 일차변환으로, 어떠한 입력 벡터합도, 스칼라곱도, 일차변환도 동일하게 출력 벡터로 리턴하기 때문이다. 2차원과 3차원에서 각각 항등변환을 나타내는 행렬을 구하라."
   ]
  },
  {
   "cell_type": "markdown",
   "id": "80b7db79",
   "metadata": {},
   "source": [
    "#### 2차원 또는 3차원에서 항등변환을 표준 기저 벡터에 작용하면 변형 없이 그대로 놔둔다. 따라서 각 차원에서 이 변환에 대한 행렬의 각 열은 표준 기저 벡터이다. 2차원과 3차원에서 항등행렬(identity matrix)은 각각 $I_2, I_3$라고 표기하며 다음과 같다.\n",
    "<center> $\n",
    "I_2 = \n",
    "\\left(\\begin{array}{cc} \n",
    "1 & 0\\\\\n",
    "0 & 1\n",
    "\\end{array}\\right), \n",
    "I_3 = \n",
    "\\left(\\begin{array}{cc} \n",
    "1 & 0 & 0\\\\ \n",
    "0 & 1 & 0\\\\ \n",
    "0 & 0 & 1 \n",
    "\\end{array}\\right)\n",
    "$  </center>"
   ]
  },
  {
   "cell_type": "markdown",
   "id": "f159c46d",
   "metadata": {},
   "source": [
    "### 연습문제 5.6\n",
    "#### 행렬 $((2,1,1),(1,2,1),(1,1,2))$를 찻주전자를 정의하는 모든 벡터에 적용하라. 찻주전자에 무슨 일이 일어나는지, 그리고 왜 일어나는지 설명하라."
   ]
  },
  {
   "cell_type": "code",
   "execution_count": 17,
   "id": "ec41e6a5",
   "metadata": {},
   "outputs": [
    {
     "name": "stdout",
     "output_type": "stream",
     "text": [
      "pygame 2.1.2 (SDL 2.0.18, Python 3.9.7)\n",
      "Hello from the pygame community. https://www.pygame.org/contribute.html\n"
     ]
    }
   ],
   "source": [
    "!python matrix_transform_teapot.py"
   ]
  },
  {
   "cell_type": "markdown",
   "id": "aec820ee",
   "metadata": {},
   "source": [
    "### 연습문제 5.7\n",
    "#### `multiply_matrix_vector`를 행렬의 행을 순회하는 컴프리헨션과 각 행의 성분을 순회하는 컴프리헨션 두 개를 중첩시켜서 앞에서 구현한 것과 다르게 구현하라."
   ]
  },
  {
   "cell_type": "code",
   "execution_count": 18,
   "id": "434036ad",
   "metadata": {},
   "outputs": [],
   "source": [
    "def multiply_matrix_vector(matrix,vector):\n",
    "    return tuple(\n",
    "        sum(vector_entry * matrix_entry\n",
    "            for vector_entry, matrix_entry in zip(row,vector))\n",
    "        for row in matrix\n",
    "    )"
   ]
  },
  {
   "cell_type": "code",
   "execution_count": 19,
   "id": "8e51ac82",
   "metadata": {},
   "outputs": [
    {
     "data": {
      "text/plain": [
       "(1, -2, -2)"
      ]
     },
     "execution_count": 19,
     "metadata": {},
     "output_type": "execute_result"
    }
   ],
   "source": [
    "multiply_matrix_vector(b,v)"
   ]
  },
  {
   "cell_type": "markdown",
   "id": "b6a85b5a",
   "metadata": {},
   "source": [
    "### 연습문제 5.8\n",
    "#### `multiply_matrix_vector`를 입력 행렬의 각 행과 입력 벡터 간의 내적이 출력 벡터를 결정한다는 사실을 이용해 또 다른 방법으로 구현하라."
   ]
  },
  {
   "cell_type": "code",
   "execution_count": 20,
   "id": "447fc4f6",
   "metadata": {},
   "outputs": [],
   "source": [
    "def multiply_matrix_vector(matrix,vector):\n",
    "    return tuple(\n",
    "        dot(row,vector)\n",
    "        for row in matrix\n",
    "    )"
   ]
  },
  {
   "cell_type": "code",
   "execution_count": 21,
   "id": "b2fd32a5",
   "metadata": {},
   "outputs": [
    {
     "data": {
      "text/plain": [
       "(1, -2, -2)"
      ]
     },
     "execution_count": 21,
     "metadata": {},
     "output_type": "execute_result"
    }
   ],
   "source": [
    "multiply_matrix_vector(b,v)"
   ]
  },
  {
   "cell_type": "markdown",
   "id": "a98b815e",
   "metadata": {},
   "source": [
    "### 연습문제 5.9 (Mini-project)\n",
    "#### 앞서 일차변환을 설명하고 어떠한 일차변환도 행렬로 표현 가능함을 보여주었다. 이제 역명제를 증명해볼 차례이다. 모든 행렬은 일차변환을 나타냄을 보여야 한다. $2 \\times 2$ 행렬과 2차원 벡터를 곱하는 공식과 $3 \\times 3$ 행렬과 3차원 벡터를 곱하는 공식을 명확히 쓴 뒤 명제를 대수적으로 증명하라. 즉, 행렬 곱셈이 벡터합과 스칼라곱을 보존함을 보여라."
   ]
  },
  {
   "cell_type": "markdown",
   "id": "96faf8a0",
   "metadata": {},
   "source": [
    "#### 지금은 2차원만 증명해보자. 3차원에서 증명할 땐 구조는 동일하지만 기재할 게 더 많다. $2 \\times 2$ 행렬 $A$의 각 성분이 $a, b, c, d$로 이루어졌다고 하자. $A$가 두 벡터 $u$와 $v$에 어떻게 작용하는지 살펴보자.\n",
    "<center> $\n",
    "A = \n",
    "\\left(\\begin{array}{cc} \n",
    "a & b\\\\\n",
    "c & d\n",
    "\\end{array}\\right), \n",
    "u = \n",
    "\\left(\\begin{array}{cc} \n",
    "u_1\\\\ \n",
    "u_2\n",
    "\\end{array}\\right), \n",
    "v = \n",
    "\\left(\\begin{array}{cc} \n",
    "v_1\\\\ \n",
    "v_2\n",
    "\\end{array}\\right)\n",
    "$  </center>"
   ]
  },
  {
   "cell_type": "markdown",
   "id": "bc879451",
   "metadata": {},
   "source": [
    "#### $Au$와 $Av$를 구하고자 각 행렬 곱셈을 명확히 써볼 수 있다.\n",
    "<center> $\n",
    "Au = \n",
    "\\left(\\begin{array}{cc} \n",
    "a & b\\\\\n",
    "c & d\n",
    "\\end{array}\\right)\n",
    "\\left(\\begin{array}{cc} \n",
    "u_1\\\\ \n",
    "u_2\n",
    "\\end{array}\\right)\n",
    "= \n",
    "\\left(\\begin{array}{cc} \n",
    "au_1+bu_2\\\\ \n",
    "cu_1+du_2\n",
    "\\end{array}\\right)\n",
    "$  </center><br>\n",
    "<center> $\n",
    "Av = \n",
    "\\left(\\begin{array}{cc} \n",
    "a & b\\\\\n",
    "c & d\n",
    "\\end{array}\\right)\n",
    "\\left(\\begin{array}{cc} \n",
    "v_1\\\\ \n",
    "v_2\n",
    "\\end{array}\\right)\n",
    "= \n",
    "\\left(\\begin{array}{cc} \n",
    "av_1+bv_2\\\\ \n",
    "cv_1+dv_2\n",
    "\\end{array}\\right)\n",
    "$  </center>"
   ]
  },
  {
   "cell_type": "markdown",
   "id": "728208d5",
   "metadata": {},
   "source": [
    "#### 이제 $Au + Av$와 $A(u+v)$를 계산해서 결과가 같은지 볼 수 있다.\n",
    "<center> $\n",
    "Au + Av = \n",
    "\\left(\\begin{array}{cc} \n",
    "au_1+bu_2\\\\\n",
    "cu_1+du_2\n",
    "\\end{array}\\right)\n",
    "+\n",
    "\\left(\\begin{array}{cc} \n",
    "av_1+bv_2\\\\ \n",
    "cv_1+dv_2\n",
    "\\end{array}\\right)\n",
    "= \n",
    "\\left(\\begin{array}{cc} \n",
    "au_1+av_1+bu_2+bv_2\\\\ \n",
    "cu_1+cv_1+du_2+dv_2\n",
    "\\end{array}\\right)\n",
    "$  </center><br>\n",
    "<center> $\n",
    "A(u+v) = \n",
    "\\left(\\begin{array}{cc} \n",
    "a & b\\\\\n",
    "c & d\n",
    "\\end{array}\\right)\n",
    "\\left(\\begin{array}{cc} \n",
    "u_1+v_1\\\\ \n",
    "u_2+v_2\n",
    "\\end{array}\\right)\n",
    "= \n",
    "\\left(\\begin{array}{cc} \n",
    "a(u_1+v_1) + b(u_2+v_2)\\\\ \n",
    "c(u_1+v_1) + d(u_2+v_2)\n",
    "\\end{array}\\right)\n",
    "= \n",
    "\\left(\\begin{array}{cc} \n",
    "au_1+av_1+bu_2+bv_2\\\\ \n",
    "cu_1+cv_1+du_2+dv_2\n",
    "\\end{array}\\right)\n",
    "$  </center>"
   ]
  },
  {
   "cell_type": "markdown",
   "id": "664b2e75",
   "metadata": {},
   "source": [
    "#### 이 결과는 임의의 $2 \\times 2$ 행렬에 대해 해당 행렬을 곱해서 정의한 2차원 벡터 변환이 벡터합을 보존함을 보여준다. 마찬가지로 임의의 수 $s$에 대해 다음이 성립된다.\n",
    "<center> $\n",
    "sv = \n",
    "\\left(\\begin{array}{cc} \n",
    "sv_1\\\\\n",
    "sv_2\n",
    "\\end{array}\\right)\n",
    "$  </center> <br>\n",
    "<center> $\n",
    "s(Av) = \n",
    "\\left(\\begin{array}{cc} \n",
    "s(av_1+bv_2)\\\\ \n",
    "s(cv_1+dv_2)\n",
    "\\end{array}\\right)\n",
    "=\n",
    "\\left(\\begin{array}{cc} \n",
    "sav_1+sbv_2\\\\ \n",
    "scv_1+sdv_2\n",
    "\\end{array}\\right)\n",
    "$  </center> <br>\n",
    "<center> $\n",
    "A(sv) = \n",
    "\\left(\\begin{array}{cc} \n",
    "a(sv_1)+b(sv_2)\\\\ \n",
    "c(sv_1)+d(sv_2)\n",
    "\\end{array}\\right)\n",
    "=\n",
    "\\left(\\begin{array}{cc} \n",
    "sav_1+sbv_2\\\\ \n",
    "scv_1+sdv_2\n",
    "\\end{array}\\right)\n",
    "$  </center>"
   ]
  },
  {
   "cell_type": "markdown",
   "id": "0b3b311b",
   "metadata": {},
   "source": [
    "#### $s \\cdot (Av)$와 $A(sv)$의 결과가 같으므로 행렬 $A$의 곱셈이 스칼라곱도 보존함을 볼 수 있다. 이 두 사실은 임의의 $2 \\times 2$ 행렬의 곱셈이 2차원 벡터의 일차변환임을 의미한다."
   ]
  },
  {
   "cell_type": "markdown",
   "id": "c3f7a1d9",
   "metadata": {},
   "source": [
    "### 연습문제 5.10\n",
    "#### 5.1.3절에 등장한 다음 두 행렬을 다시 사용하자.\n",
    "<center> $\n",
    "A = \n",
    "\\left(\\begin{array}{cc} \n",
    "1 & 1 & 0\\\\\n",
    "1 & 0 & 1\\\\\n",
    "1 & -1 & 1\n",
    "\\end{array}\\right), \n",
    "B = \n",
    "\\left(\\begin{array}{cc} \n",
    "0 & 2 & 1\\\\\n",
    "0 & 1 & 0\\\\\n",
    "1 & 0 & -1\n",
    "\\end{array}\\right)\n",
    "$  </center>"
   ]
  },
  {
   "cell_type": "markdown",
   "id": "9a08140f",
   "metadata": {},
   "source": [
    "#### $A$에 대한 일차변환과 $B$에 대한 일차변환의 합성을 수행하는 함수 `composr_a_b`를 작성하라. 이후 [연습문제 5.1]에 등장한 `infer_matrix` 함수를 사용해 `infer_matrix(3, compose_a_b)`가 행렬곱 $AB$과 동일함을 보여라."
   ]
  },
  {
   "cell_type": "code",
   "execution_count": 22,
   "id": "6dc19f54",
   "metadata": {},
   "outputs": [],
   "source": [
    "from transforms import compose\n",
    "a = ((1,1,0),(1,0,1),(1,-1,1))\n",
    "b = ((0,2,1),(0,1,0),(1,0,-1))"
   ]
  },
  {
   "cell_type": "code",
   "execution_count": 23,
   "id": "34a41ba5",
   "metadata": {},
   "outputs": [],
   "source": [
    "def transform_a(v):\n",
    "    return multiply_matrix_vector(a,v)\n",
    "\n",
    "def transform_b(v):\n",
    "    return multiply_matrix_vector(b,v)\n",
    "\n",
    "compose_a_b = compose(transform_a, transform_b)"
   ]
  },
  {
   "cell_type": "code",
   "execution_count": 24,
   "id": "3020610a",
   "metadata": {},
   "outputs": [
    {
     "data": {
      "text/plain": [
       "((0, 3, 1), (1, 2, 0), (1, 1, 0))"
      ]
     },
     "execution_count": 24,
     "metadata": {},
     "output_type": "execute_result"
    }
   ],
   "source": [
    "infer_matrix(3,compose_a_b)"
   ]
  },
  {
   "cell_type": "code",
   "execution_count": 25,
   "id": "82b47faf",
   "metadata": {},
   "outputs": [
    {
     "data": {
      "text/plain": [
       "((0, 3, 1), (1, 2, 0), (1, 1, 0))"
      ]
     },
     "execution_count": 25,
     "metadata": {},
     "output_type": "execute_result"
    }
   ],
   "source": [
    "matrix_multiply(a,b)"
   ]
  },
  {
   "cell_type": "markdown",
   "id": "c0df3fea",
   "metadata": {},
   "source": [
    "### 연습문제 5.11 (Mini-project)\n",
    "#### 각각 항등행렬 $I_2$는 아니지만 서로 곱하면 항등행렬이 되는 2개의 $2 \\times 2$ 행렬을 구하라."
   ]
  },
  {
   "cell_type": "markdown",
   "id": "8f6526e5",
   "metadata": {},
   "source": [
    "#### 이 문제를 푸는 한 가지 방법으로 두 행렬을 쓴 뒤 그 곱이 항등행렬인지 확인하는 작업을 반복하는 방법이 있다. 다른 방법은 일차변환 측면에서 생각하면 된다. 두 행렬을 곱해서 항등행렬이 나온다면 대응하는 각각의 일차변환을 합성할 때 항등변환이 된다는 뜻이다.\n",
    "#### 이를 염두에 두고 합성했을 때 항등변환이 되는 2차원 일차변환 두 개를 생각해보자. 주어진 2차원 벡터에 순서대로 적용했을 때, 이 일차변환들은 출력으로 원래 벡터를 리턴해야 한다. 그러한 일차변환 쌍은 시계방향으로 90$^circ$만큼 회전이동한 다음 시계방향으로 270$^\\circ$만큼 회전이동하는 것이다. 두 일차변환을 적용하면 모든 벡터가 원래 위치로 돌아가는 360$^\\circ$ 회전이 된다. 270$^\\circ$ 회전이동과 90$^\\circ$ 회전이동에 대응하는 행렬은 다음과 같으며, 그 곱은 항등행렬이다.\n",
    "<br><center> $\n",
    "\\left(\\begin{array}{cc} \n",
    "0 & 1\\\\\n",
    "-1 & 0\\\\\n",
    "\\end{array}\\right)\n",
    "\\left(\\begin{array}{cc} \n",
    "0 & -1\\\\\n",
    "1 & 0\\\\\n",
    "\\end{array}\\right)\n",
    "=\n",
    "\\left(\\begin{array}{cc} \n",
    "1 & 0\\\\\n",
    "0 & 1\\\\\n",
    "\\end{array}\\right)\n",
    "$ </center>"
   ]
  },
  {
   "cell_type": "markdown",
   "id": "c53caca4",
   "metadata": {},
   "source": [
    "### 연습문제 5.12\n",
    "#### 정사각행렬은 여러 번 반복해서 곱할 수 있기 때문에, 같은 행렬을 반복해 곱하는 것을 '행렬을 거듭제곱'한다고 생각할 수 있다. 정사각행렬 $A$에 대해 $AA$는 $A^2$으로 쓸 수 있으며, $AAA$는 $A^3$으로 쓸 수 있고, 더 높은 차원에 대해서도 쓸 수 있다. 이를 바탕으로 주어진 행렬을 특정(자연수) 지수만큼 거듭제곱하는 `matrix_power(power,matrix)` 함수를 작성하라."
   ]
  },
  {
   "cell_type": "code",
   "execution_count": 26,
   "id": "5696d2a8",
   "metadata": {},
   "outputs": [],
   "source": [
    "def matrix_power(power,matrix):\n",
    "    result = matrix\n",
    "    for _ in range(1,power):\n",
    "        result = matrix_multiply(result,matrix)\n",
    "    return result"
   ]
  },
  {
   "cell_type": "code",
   "execution_count": 27,
   "id": "c2449b8d",
   "metadata": {},
   "outputs": [
    {
     "data": {
      "text/plain": [
       "((-1, 4, 2), (0, 1, 0), (2, 0, -3))"
      ]
     },
     "execution_count": 27,
     "metadata": {},
     "output_type": "execute_result"
    }
   ],
   "source": [
    "matrix_multiply(b,matrix_multiply(b,b))"
   ]
  },
  {
   "cell_type": "code",
   "execution_count": 28,
   "id": "36dd84b9",
   "metadata": {},
   "outputs": [
    {
     "data": {
      "text/plain": [
       "((-1, 4, 2), (0, 1, 0), (2, 0, -3))"
      ]
     },
     "execution_count": 28,
     "metadata": {},
     "output_type": "execute_result"
    }
   ],
   "source": [
    "matrix_power(3,b)"
   ]
  },
  {
   "cell_type": "code",
   "execution_count": null,
   "id": "a9fe7735",
   "metadata": {},
   "outputs": [],
   "source": []
  }
 ],
 "metadata": {
  "kernelspec": {
   "display_name": "Python 3 (ipykernel)",
   "language": "python",
   "name": "python3"
  },
  "language_info": {
   "codemirror_mode": {
    "name": "ipython",
    "version": 3
   },
   "file_extension": ".py",
   "mimetype": "text/x-python",
   "name": "python",
   "nbconvert_exporter": "python",
   "pygments_lexer": "ipython3",
   "version": "3.9.7"
  }
 },
 "nbformat": 4,
 "nbformat_minor": 5
}
