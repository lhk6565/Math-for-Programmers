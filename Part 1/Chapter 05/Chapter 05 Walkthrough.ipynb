{
 "cells": [
  {
   "cell_type": "markdown",
   "id": "838495d9",
   "metadata": {},
   "source": [
    "# Chapter 05 행렬로 변환 계산하기"
   ]
  },
  {
   "cell_type": "markdown",
   "id": "0aa974ca",
   "metadata": {},
   "source": [
    "## 5.1 행렬로 일차변환 표현하기"
   ]
  },
  {
   "cell_type": "markdown",
   "id": "cbb31261",
   "metadata": {},
   "source": [
    "### 5.1.2 행렬과 벡터 곱하기"
   ]
  },
  {
   "cell_type": "code",
   "execution_count": 1,
   "id": "bd15f1ca",
   "metadata": {},
   "outputs": [],
   "source": [
    "B = (\n",
    "    (0,2,1),\n",
    "    (0,1,0),\n",
    "    (1,0,-1)\n",
    ")\n",
    "\n",
    "v = (3,-2,5)"
   ]
  },
  {
   "cell_type": "code",
   "execution_count": 2,
   "id": "ca1ef67e",
   "metadata": {},
   "outputs": [
    {
     "data": {
      "text/plain": [
       "[(0, 0, 1), (2, 1, 0), (1, 0, -1)]"
      ]
     },
     "execution_count": 2,
     "metadata": {},
     "output_type": "execute_result"
    }
   ],
   "source": [
    "list(zip(*B))"
   ]
  },
  {
   "cell_type": "code",
   "execution_count": 3,
   "id": "ec9494fb",
   "metadata": {},
   "outputs": [],
   "source": [
    "from vectors import *\n",
    "def linear_combination(scalars,*vectors):\n",
    "    scaled = [scale(s,v) for s,v in zip(scalars,vectors)]\n",
    "    return add(*scaled)"
   ]
  },
  {
   "cell_type": "code",
   "execution_count": 4,
   "id": "9104306b",
   "metadata": {},
   "outputs": [],
   "source": [
    "def multiply_matrix_vector(matrix, vector):\n",
    "    return linear_combination(vector, *zip(*matrix))"
   ]
  },
  {
   "cell_type": "code",
   "execution_count": 5,
   "id": "548f1100",
   "metadata": {},
   "outputs": [
    {
     "data": {
      "text/plain": [
       "(1, -2, -2)"
      ]
     },
     "execution_count": 5,
     "metadata": {},
     "output_type": "execute_result"
    }
   ],
   "source": [
    "multiply_matrix_vector(B,v)"
   ]
  },
  {
   "cell_type": "markdown",
   "id": "6907e867",
   "metadata": {},
   "source": [
    "### 5.1.4 행렬 곱 구현하기"
   ]
  },
  {
   "cell_type": "code",
   "execution_count": 6,
   "id": "ac2bf9d8",
   "metadata": {},
   "outputs": [],
   "source": [
    "from vectors import *\n",
    "def matrix_multiply(a,b):\n",
    "    return tuple(\n",
    "    tuple(dot(row,col) for col in zip(*b))\n",
    "    for row in a\n",
    ")"
   ]
  },
  {
   "cell_type": "code",
   "execution_count": 8,
   "id": "45126333",
   "metadata": {},
   "outputs": [
    {
     "data": {
      "text/plain": [
       "((0, 3, 1), (1, 2, 0), (1, 1, 0))"
      ]
     },
     "execution_count": 8,
     "metadata": {},
     "output_type": "execute_result"
    }
   ],
   "source": [
    "a = ((1,1,0),(1,0,1),(1,-1,1))\n",
    "b = ((0,2,1),(0,1,0),(1,0,-1))\n",
    "matrix_multiply(a,b)"
   ]
  },
  {
   "cell_type": "code",
   "execution_count": 9,
   "id": "310361e8",
   "metadata": {},
   "outputs": [
    {
     "data": {
      "text/plain": [
       "((2, -1), (4, -3))"
      ]
     },
     "execution_count": 9,
     "metadata": {},
     "output_type": "execute_result"
    }
   ],
   "source": [
    "c = ((1,2),(3,4))\n",
    "d = ((0,-1),(1,0))\n",
    "matrix_multiply(c,d)"
   ]
  },
  {
   "cell_type": "markdown",
   "id": "521cf6f2",
   "metadata": {},
   "source": [
    "### 5.1.5 행렬 변환을 통한 3차원 애니메이션"
   ]
  },
  {
   "cell_type": "code",
   "execution_count": 11,
   "id": "08d00421",
   "metadata": {},
   "outputs": [
    {
     "name": "stdout",
     "output_type": "stream",
     "text": [
      "pygame 2.1.2 (SDL 2.0.18, Python 3.9.7)\n",
      "Hello from the pygame community. https://www.pygame.org/contribute.html\n"
     ]
    }
   ],
   "source": [
    "from teapot import load_triangles\n",
    "from draw_model import draw_model\n",
    "from math import sin,cos"
   ]
  },
  {
   "cell_type": "code",
   "execution_count": 12,
   "id": "eb2b0c40",
   "metadata": {},
   "outputs": [],
   "source": [
    "def get_rotation_matrix(t):\n",
    "    seconds = t/1000\n",
    "    return (\n",
    "        (cos(seconds),0,-sin(seconds)),\n",
    "        (0,1,0),\n",
    "        (sin(seconds),0,cos(seconds))\n",
    "    )"
   ]
  },
  {
   "cell_type": "code",
   "execution_count": 14,
   "id": "c8f182d6",
   "metadata": {},
   "outputs": [
    {
     "name": "stdout",
     "output_type": "stream",
     "text": [
      "pygame 2.1.2 (SDL 2.0.18, Python 3.9.7)\n",
      "Hello from the pygame community. https://www.pygame.org/contribute.html\n"
     ]
    }
   ],
   "source": [
    "!python animate_teapot.py"
   ]
  },
  {
   "cell_type": "markdown",
   "id": "a8b69cce",
   "metadata": {},
   "source": [
    "### 5.1.6 연습문제"
   ]
  },
  {
   "cell_type": "markdown",
   "id": "e5e6ac97",
   "metadata": {},
   "source": [
    "### 연습문제 5.1\n",
    "#### 함수 `infer_matrix(n, transformation)`를 작성하라. 이 함수는 (2차원이나 3차원같이) 차원과 일차변환으로 가정된 벡터 변환을 입력으로 받는다."
   ]
  },
  {
   "cell_type": "code",
   "execution_count": 15,
   "id": "79d16eb0",
   "metadata": {},
   "outputs": [],
   "source": [
    "def infer_matrix(n, transformation):\n",
    "    def standard_basis_vector(i):\n",
    "        return tuple(1 if i==j else 0 for j in range(1,n+1)) #1\n",
    "    standard_basis = [standard_basis_vector(i) for i in range(1,n+1)] #2\n",
    "    cols = [transformation(v) for v in standard_basis] #3\n",
    "    return tuple(zip(*cols)) #4"
   ]
  },
  {
   "cell_type": "code",
   "execution_count": 16,
   "id": "40ba6b47",
   "metadata": {},
   "outputs": [],
   "source": [
    "from transforms import rotate_z_by\n",
    "from math import pi"
   ]
  },
  {
   "cell_type": "code",
   "execution_count": 17,
   "id": "5f5f9947",
   "metadata": {},
   "outputs": [
    {
     "data": {
      "text/plain": [
       "((6.123233995736766e-17, -1.0, 0.0),\n",
       " (1.0, 1.2246467991473532e-16, 0.0),\n",
       " (0, 0, 1))"
      ]
     },
     "execution_count": 17,
     "metadata": {},
     "output_type": "execute_result"
    }
   ],
   "source": [
    "infer_matrix(3,rotate_z_by(pi/2))"
   ]
  },
  {
   "cell_type": "code",
   "execution_count": null,
   "id": "d4b727bf",
   "metadata": {},
   "outputs": [],
   "source": []
  }
 ],
 "metadata": {
  "kernelspec": {
   "display_name": "Python 3 (ipykernel)",
   "language": "python",
   "name": "python3"
  },
  "language_info": {
   "codemirror_mode": {
    "name": "ipython",
    "version": 3
   },
   "file_extension": ".py",
   "mimetype": "text/x-python",
   "name": "python",
   "nbconvert_exporter": "python",
   "pygments_lexer": "ipython3",
   "version": "3.9.7"
  }
 },
 "nbformat": 4,
 "nbformat_minor": 5
}
